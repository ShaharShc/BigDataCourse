{
  "nbformat": 4,
  "nbformat_minor": 0,
  "metadata": {
    "kernelspec": {
      "display_name": "Python 3",
      "language": "python",
      "name": "python3"
    },
    "language_info": {
      "codemirror_mode": {
        "name": "ipython",
        "version": 3
      },
      "file_extension": ".py",
      "mimetype": "text/x-python",
      "name": "python",
      "nbconvert_exporter": "python",
      "pygments_lexer": "ipython3",
      "version": "3.6.7"
    },
    "colab": {
      "provenance": []
    },
    "accelerator": "GPU"
  },
  "cells": [
    {
      "cell_type": "markdown",
      "metadata": {
        "id": "vpM6SFPqDMEe"
      },
      "source": [
        "# Homework Assignment 7"
      ]
    },
    {
      "cell_type": "markdown",
      "source": [
        "## Pacage Setup"
      ],
      "metadata": {
        "id": "lVsxs44Khyn0"
      }
    },
    {
      "cell_type": "code",
      "source": [
        "!pip install turicreate\n",
        "!pip install spaCy"
      ],
      "metadata": {
        "colab": {
          "base_uri": "https://localhost:8080/"
        },
        "id": "iCgTdobab7IA",
        "outputId": "33fd36b8-a541-458c-d99e-3190ab45a06d"
      },
      "execution_count": null,
      "outputs": [
        {
          "output_type": "stream",
          "name": "stdout",
          "text": [
            "Requirement already satisfied: turicreate in /usr/local/lib/python3.7/dist-packages (6.4.1)\n",
            "Requirement already satisfied: prettytable==0.7.2 in /usr/local/lib/python3.7/dist-packages (from turicreate) (0.7.2)\n",
            "Requirement already satisfied: numba<0.51.0 in /usr/local/lib/python3.7/dist-packages (from turicreate) (0.50.1)\n",
            "Requirement already satisfied: decorator>=4.0.9 in /usr/local/lib/python3.7/dist-packages (from turicreate) (4.4.2)\n",
            "Requirement already satisfied: numpy in /usr/local/lib/python3.7/dist-packages (from turicreate) (1.18.5)\n",
            "Requirement already satisfied: six>=1.10.0 in /usr/local/lib/python3.7/dist-packages (from turicreate) (1.15.0)\n",
            "Requirement already satisfied: coremltools==3.3 in /usr/local/lib/python3.7/dist-packages (from turicreate) (3.3)\n",
            "Requirement already satisfied: resampy==0.2.1 in /usr/local/lib/python3.7/dist-packages (from turicreate) (0.2.1)\n",
            "Requirement already satisfied: pandas>=0.23.2 in /usr/local/lib/python3.7/dist-packages (from turicreate) (1.3.5)\n",
            "Requirement already satisfied: requests>=2.9.1 in /usr/local/lib/python3.7/dist-packages (from turicreate) (2.23.0)\n",
            "Requirement already satisfied: tensorflow<2.1.0,>=2.0.0 in /usr/local/lib/python3.7/dist-packages (from turicreate) (2.0.4)\n",
            "Requirement already satisfied: scipy>=1.1.0 in /usr/local/lib/python3.7/dist-packages (from turicreate) (1.4.1)\n",
            "Requirement already satisfied: pillow>=5.2.0 in /usr/local/lib/python3.7/dist-packages (from turicreate) (7.1.2)\n",
            "Requirement already satisfied: protobuf>=3.1.0 in /usr/local/lib/python3.7/dist-packages (from coremltools==3.3->turicreate) (3.17.3)\n",
            "Requirement already satisfied: setuptools in /usr/local/lib/python3.7/dist-packages (from numba<0.51.0->turicreate) (57.4.0)\n",
            "Requirement already satisfied: llvmlite<0.34,>=0.33.0.dev0 in /usr/local/lib/python3.7/dist-packages (from numba<0.51.0->turicreate) (0.33.0)\n",
            "Requirement already satisfied: pytz>=2017.3 in /usr/local/lib/python3.7/dist-packages (from pandas>=0.23.2->turicreate) (2022.1)\n",
            "Requirement already satisfied: python-dateutil>=2.7.3 in /usr/local/lib/python3.7/dist-packages (from pandas>=0.23.2->turicreate) (2.8.2)\n",
            "Requirement already satisfied: idna<3,>=2.5 in /usr/local/lib/python3.7/dist-packages (from requests>=2.9.1->turicreate) (2.10)\n",
            "Requirement already satisfied: certifi>=2017.4.17 in /usr/local/lib/python3.7/dist-packages (from requests>=2.9.1->turicreate) (2021.10.8)\n",
            "Requirement already satisfied: urllib3!=1.25.0,!=1.25.1,<1.26,>=1.21.1 in /usr/local/lib/python3.7/dist-packages (from requests>=2.9.1->turicreate) (1.24.3)\n",
            "Requirement already satisfied: chardet<4,>=3.0.2 in /usr/local/lib/python3.7/dist-packages (from requests>=2.9.1->turicreate) (3.0.4)\n",
            "Requirement already satisfied: keras-preprocessing>=1.0.5 in /usr/local/lib/python3.7/dist-packages (from tensorflow<2.1.0,>=2.0.0->turicreate) (1.1.2)\n",
            "Requirement already satisfied: termcolor>=1.1.0 in /usr/local/lib/python3.7/dist-packages (from tensorflow<2.1.0,>=2.0.0->turicreate) (1.1.0)\n",
            "Requirement already satisfied: tensorboard<2.1.0,>=2.0.0 in /usr/local/lib/python3.7/dist-packages (from tensorflow<2.1.0,>=2.0.0->turicreate) (2.0.2)\n",
            "Requirement already satisfied: gast==0.2.2 in /usr/local/lib/python3.7/dist-packages (from tensorflow<2.1.0,>=2.0.0->turicreate) (0.2.2)\n",
            "Requirement already satisfied: google-pasta>=0.1.6 in /usr/local/lib/python3.7/dist-packages (from tensorflow<2.1.0,>=2.0.0->turicreate) (0.2.0)\n",
            "Requirement already satisfied: keras-applications>=1.0.8 in /usr/local/lib/python3.7/dist-packages (from tensorflow<2.1.0,>=2.0.0->turicreate) (1.0.8)\n",
            "Requirement already satisfied: opt-einsum>=2.3.2 in /usr/local/lib/python3.7/dist-packages (from tensorflow<2.1.0,>=2.0.0->turicreate) (3.3.0)\n",
            "Requirement already satisfied: wrapt>=1.11.1 in /usr/local/lib/python3.7/dist-packages (from tensorflow<2.1.0,>=2.0.0->turicreate) (1.14.1)\n",
            "Requirement already satisfied: h5py<=2.10.0 in /usr/local/lib/python3.7/dist-packages (from tensorflow<2.1.0,>=2.0.0->turicreate) (2.10.0)\n",
            "Requirement already satisfied: astor>=0.6.0 in /usr/local/lib/python3.7/dist-packages (from tensorflow<2.1.0,>=2.0.0->turicreate) (0.8.1)\n",
            "Requirement already satisfied: grpcio>=1.8.6 in /usr/local/lib/python3.7/dist-packages (from tensorflow<2.1.0,>=2.0.0->turicreate) (1.46.1)\n",
            "Requirement already satisfied: wheel>=0.26 in /usr/local/lib/python3.7/dist-packages (from tensorflow<2.1.0,>=2.0.0->turicreate) (0.37.1)\n",
            "Requirement already satisfied: tensorflow-estimator<2.1.0,>=2.0.0 in /usr/local/lib/python3.7/dist-packages (from tensorflow<2.1.0,>=2.0.0->turicreate) (2.0.1)\n",
            "Requirement already satisfied: absl-py>=0.7.0 in /usr/local/lib/python3.7/dist-packages (from tensorflow<2.1.0,>=2.0.0->turicreate) (1.0.0)\n",
            "Requirement already satisfied: google-auth-oauthlib<0.5,>=0.4.1 in /usr/local/lib/python3.7/dist-packages (from tensorboard<2.1.0,>=2.0.0->tensorflow<2.1.0,>=2.0.0->turicreate) (0.4.6)\n",
            "Requirement already satisfied: werkzeug>=0.11.15 in /usr/local/lib/python3.7/dist-packages (from tensorboard<2.1.0,>=2.0.0->tensorflow<2.1.0,>=2.0.0->turicreate) (1.0.1)\n",
            "Requirement already satisfied: google-auth<2,>=1.6.3 in /usr/local/lib/python3.7/dist-packages (from tensorboard<2.1.0,>=2.0.0->tensorflow<2.1.0,>=2.0.0->turicreate) (1.35.0)\n",
            "Requirement already satisfied: markdown>=2.6.8 in /usr/local/lib/python3.7/dist-packages (from tensorboard<2.1.0,>=2.0.0->tensorflow<2.1.0,>=2.0.0->turicreate) (3.3.7)\n",
            "Requirement already satisfied: pyasn1-modules>=0.2.1 in /usr/local/lib/python3.7/dist-packages (from google-auth<2,>=1.6.3->tensorboard<2.1.0,>=2.0.0->tensorflow<2.1.0,>=2.0.0->turicreate) (0.2.8)\n",
            "Requirement already satisfied: cachetools<5.0,>=2.0.0 in /usr/local/lib/python3.7/dist-packages (from google-auth<2,>=1.6.3->tensorboard<2.1.0,>=2.0.0->tensorflow<2.1.0,>=2.0.0->turicreate) (4.2.4)\n",
            "Requirement already satisfied: rsa<5,>=3.1.4 in /usr/local/lib/python3.7/dist-packages (from google-auth<2,>=1.6.3->tensorboard<2.1.0,>=2.0.0->tensorflow<2.1.0,>=2.0.0->turicreate) (4.8)\n",
            "Requirement already satisfied: requests-oauthlib>=0.7.0 in /usr/local/lib/python3.7/dist-packages (from google-auth-oauthlib<0.5,>=0.4.1->tensorboard<2.1.0,>=2.0.0->tensorflow<2.1.0,>=2.0.0->turicreate) (1.3.1)\n",
            "Requirement already satisfied: importlib-metadata>=4.4 in /usr/local/lib/python3.7/dist-packages (from markdown>=2.6.8->tensorboard<2.1.0,>=2.0.0->tensorflow<2.1.0,>=2.0.0->turicreate) (4.11.3)\n",
            "Requirement already satisfied: typing-extensions>=3.6.4 in /usr/local/lib/python3.7/dist-packages (from importlib-metadata>=4.4->markdown>=2.6.8->tensorboard<2.1.0,>=2.0.0->tensorflow<2.1.0,>=2.0.0->turicreate) (4.2.0)\n",
            "Requirement already satisfied: zipp>=0.5 in /usr/local/lib/python3.7/dist-packages (from importlib-metadata>=4.4->markdown>=2.6.8->tensorboard<2.1.0,>=2.0.0->tensorflow<2.1.0,>=2.0.0->turicreate) (3.8.0)\n",
            "Requirement already satisfied: pyasn1<0.5.0,>=0.4.6 in /usr/local/lib/python3.7/dist-packages (from pyasn1-modules>=0.2.1->google-auth<2,>=1.6.3->tensorboard<2.1.0,>=2.0.0->tensorflow<2.1.0,>=2.0.0->turicreate) (0.4.8)\n",
            "Requirement already satisfied: oauthlib>=3.0.0 in /usr/local/lib/python3.7/dist-packages (from requests-oauthlib>=0.7.0->google-auth-oauthlib<0.5,>=0.4.1->tensorboard<2.1.0,>=2.0.0->tensorflow<2.1.0,>=2.0.0->turicreate) (3.2.0)\n",
            "Requirement already satisfied: spaCy in /usr/local/lib/python3.7/dist-packages (2.2.4)\n",
            "Requirement already satisfied: requests<3.0.0,>=2.13.0 in /usr/local/lib/python3.7/dist-packages (from spaCy) (2.23.0)\n",
            "Requirement already satisfied: blis<0.5.0,>=0.4.0 in /usr/local/lib/python3.7/dist-packages (from spaCy) (0.4.1)\n",
            "Requirement already satisfied: murmurhash<1.1.0,>=0.28.0 in /usr/local/lib/python3.7/dist-packages (from spaCy) (1.0.7)\n",
            "Requirement already satisfied: preshed<3.1.0,>=3.0.2 in /usr/local/lib/python3.7/dist-packages (from spaCy) (3.0.6)\n",
            "Requirement already satisfied: wasabi<1.1.0,>=0.4.0 in /usr/local/lib/python3.7/dist-packages (from spaCy) (0.9.1)\n",
            "Requirement already satisfied: thinc==7.4.0 in /usr/local/lib/python3.7/dist-packages (from spaCy) (7.4.0)\n",
            "Requirement already satisfied: numpy>=1.15.0 in /usr/local/lib/python3.7/dist-packages (from spaCy) (1.18.5)\n",
            "Requirement already satisfied: tqdm<5.0.0,>=4.38.0 in /usr/local/lib/python3.7/dist-packages (from spaCy) (4.64.0)\n",
            "Requirement already satisfied: srsly<1.1.0,>=1.0.2 in /usr/local/lib/python3.7/dist-packages (from spaCy) (1.0.5)\n",
            "Requirement already satisfied: setuptools in /usr/local/lib/python3.7/dist-packages (from spaCy) (57.4.0)\n",
            "Requirement already satisfied: plac<1.2.0,>=0.9.6 in /usr/local/lib/python3.7/dist-packages (from spaCy) (1.1.3)\n",
            "Requirement already satisfied: catalogue<1.1.0,>=0.0.7 in /usr/local/lib/python3.7/dist-packages (from spaCy) (1.0.0)\n",
            "Requirement already satisfied: cymem<2.1.0,>=2.0.2 in /usr/local/lib/python3.7/dist-packages (from spaCy) (2.0.6)\n",
            "Requirement already satisfied: importlib-metadata>=0.20 in /usr/local/lib/python3.7/dist-packages (from catalogue<1.1.0,>=0.0.7->spaCy) (4.11.3)\n",
            "Requirement already satisfied: typing-extensions>=3.6.4 in /usr/local/lib/python3.7/dist-packages (from importlib-metadata>=0.20->catalogue<1.1.0,>=0.0.7->spaCy) (4.2.0)\n",
            "Requirement already satisfied: zipp>=0.5 in /usr/local/lib/python3.7/dist-packages (from importlib-metadata>=0.20->catalogue<1.1.0,>=0.0.7->spaCy) (3.8.0)\n",
            "Requirement already satisfied: idna<3,>=2.5 in /usr/local/lib/python3.7/dist-packages (from requests<3.0.0,>=2.13.0->spaCy) (2.10)\n",
            "Requirement already satisfied: certifi>=2017.4.17 in /usr/local/lib/python3.7/dist-packages (from requests<3.0.0,>=2.13.0->spaCy) (2021.10.8)\n",
            "Requirement already satisfied: urllib3!=1.25.0,!=1.25.1,<1.26,>=1.21.1 in /usr/local/lib/python3.7/dist-packages (from requests<3.0.0,>=2.13.0->spaCy) (1.24.3)\n",
            "Requirement already satisfied: chardet<4,>=3.0.2 in /usr/local/lib/python3.7/dist-packages (from requests<3.0.0,>=2.13.0->spaCy) (3.0.4)\n"
          ]
        }
      ]
    },
    {
      "cell_type": "code",
      "source": [
        "!python -m spacy download en_core_web_lg # Important! you need to restart runtime after install"
      ],
      "metadata": {
        "colab": {
          "base_uri": "https://localhost:8080/"
        },
        "id": "yK7aZILpdevv",
        "outputId": "9c03477b-96f2-4a66-9f19-85d3ea0ae7e1"
      },
      "execution_count": null,
      "outputs": [
        {
          "output_type": "stream",
          "name": "stdout",
          "text": [
            "Collecting en_core_web_lg==2.2.5\n",
            "  Downloading https://github.com/explosion/spacy-models/releases/download/en_core_web_lg-2.2.5/en_core_web_lg-2.2.5.tar.gz (827.9 MB)\n",
            "\u001b[K     |████████████████████████████████| 827.9 MB 1.2 MB/s \n",
            "\u001b[?25hRequirement already satisfied: spacy>=2.2.2 in /usr/local/lib/python3.7/dist-packages (from en_core_web_lg==2.2.5) (2.2.4)\n",
            "Requirement already satisfied: murmurhash<1.1.0,>=0.28.0 in /usr/local/lib/python3.7/dist-packages (from spacy>=2.2.2->en_core_web_lg==2.2.5) (1.0.7)\n",
            "Requirement already satisfied: requests<3.0.0,>=2.13.0 in /usr/local/lib/python3.7/dist-packages (from spacy>=2.2.2->en_core_web_lg==2.2.5) (2.23.0)\n",
            "Requirement already satisfied: thinc==7.4.0 in /usr/local/lib/python3.7/dist-packages (from spacy>=2.2.2->en_core_web_lg==2.2.5) (7.4.0)\n",
            "Requirement already satisfied: preshed<3.1.0,>=3.0.2 in /usr/local/lib/python3.7/dist-packages (from spacy>=2.2.2->en_core_web_lg==2.2.5) (3.0.6)\n",
            "Requirement already satisfied: cymem<2.1.0,>=2.0.2 in /usr/local/lib/python3.7/dist-packages (from spacy>=2.2.2->en_core_web_lg==2.2.5) (2.0.6)\n",
            "Requirement already satisfied: catalogue<1.1.0,>=0.0.7 in /usr/local/lib/python3.7/dist-packages (from spacy>=2.2.2->en_core_web_lg==2.2.5) (1.0.0)\n",
            "Requirement already satisfied: blis<0.5.0,>=0.4.0 in /usr/local/lib/python3.7/dist-packages (from spacy>=2.2.2->en_core_web_lg==2.2.5) (0.4.1)\n",
            "Requirement already satisfied: setuptools in /usr/local/lib/python3.7/dist-packages (from spacy>=2.2.2->en_core_web_lg==2.2.5) (57.4.0)\n",
            "Requirement already satisfied: wasabi<1.1.0,>=0.4.0 in /usr/local/lib/python3.7/dist-packages (from spacy>=2.2.2->en_core_web_lg==2.2.5) (0.9.1)\n",
            "Requirement already satisfied: numpy>=1.15.0 in /usr/local/lib/python3.7/dist-packages (from spacy>=2.2.2->en_core_web_lg==2.2.5) (1.18.5)\n",
            "Requirement already satisfied: tqdm<5.0.0,>=4.38.0 in /usr/local/lib/python3.7/dist-packages (from spacy>=2.2.2->en_core_web_lg==2.2.5) (4.64.0)\n",
            "Requirement already satisfied: srsly<1.1.0,>=1.0.2 in /usr/local/lib/python3.7/dist-packages (from spacy>=2.2.2->en_core_web_lg==2.2.5) (1.0.5)\n",
            "Requirement already satisfied: plac<1.2.0,>=0.9.6 in /usr/local/lib/python3.7/dist-packages (from spacy>=2.2.2->en_core_web_lg==2.2.5) (1.1.3)\n",
            "Requirement already satisfied: importlib-metadata>=0.20 in /usr/local/lib/python3.7/dist-packages (from catalogue<1.1.0,>=0.0.7->spacy>=2.2.2->en_core_web_lg==2.2.5) (4.11.3)\n",
            "Requirement already satisfied: typing-extensions>=3.6.4 in /usr/local/lib/python3.7/dist-packages (from importlib-metadata>=0.20->catalogue<1.1.0,>=0.0.7->spacy>=2.2.2->en_core_web_lg==2.2.5) (4.2.0)\n",
            "Requirement already satisfied: zipp>=0.5 in /usr/local/lib/python3.7/dist-packages (from importlib-metadata>=0.20->catalogue<1.1.0,>=0.0.7->spacy>=2.2.2->en_core_web_lg==2.2.5) (3.8.0)\n",
            "Requirement already satisfied: chardet<4,>=3.0.2 in /usr/local/lib/python3.7/dist-packages (from requests<3.0.0,>=2.13.0->spacy>=2.2.2->en_core_web_lg==2.2.5) (3.0.4)\n",
            "Requirement already satisfied: urllib3!=1.25.0,!=1.25.1,<1.26,>=1.21.1 in /usr/local/lib/python3.7/dist-packages (from requests<3.0.0,>=2.13.0->spacy>=2.2.2->en_core_web_lg==2.2.5) (1.24.3)\n",
            "Requirement already satisfied: idna<3,>=2.5 in /usr/local/lib/python3.7/dist-packages (from requests<3.0.0,>=2.13.0->spacy>=2.2.2->en_core_web_lg==2.2.5) (2.10)\n",
            "Requirement already satisfied: certifi>=2017.4.17 in /usr/local/lib/python3.7/dist-packages (from requests<3.0.0,>=2.13.0->spacy>=2.2.2->en_core_web_lg==2.2.5) (2021.10.8)\n",
            "\u001b[38;5;2m✔ Download and installation successful\u001b[0m\n",
            "You can now load the model via spacy.load('en_core_web_lg')\n"
          ]
        }
      ]
    },
    {
      "cell_type": "code",
      "source": [
        "# see more details in the course first lecture\n",
        "!mkdir /root/.kaggle/\n",
        "import json\n",
        "import os\n",
        "\n",
        "# Installing the Kaggle package\n",
        "!pip install kaggle\n",
        "\n",
        "#Important Note: complete this with your own key - after running this for the first time remmember to **remove** your API_KEY\n",
        "api_token = {\"username\":\"\",\"key\":\"\"}\n",
        "\n",
        "# creating kaggle.json file with the personal API-Key details\n",
        "# You can also put this file on your Google Drive\n",
        "with open('/root/.kaggle/kaggle.json', 'w') as file:\n",
        "  json.dump(api_token, file)\n",
        "!chmod 600 /root/.kaggle/kaggle.json"
      ],
      "metadata": {
        "colab": {
          "base_uri": "https://localhost:8080/"
        },
        "id": "-gHe4LEiZvL6",
        "outputId": "da5de08c-fc14-45e5-893e-d618b3dde95c"
      },
      "execution_count": null,
      "outputs": [
        {
          "output_type": "stream",
          "name": "stdout",
          "text": [
            "mkdir: cannot create directory ‘/root/.kaggle/’: File exists\n",
            "Requirement already satisfied: kaggle in /usr/local/lib/python3.7/dist-packages (1.5.12)\n",
            "Requirement already satisfied: urllib3 in /usr/local/lib/python3.7/dist-packages (from kaggle) (1.24.3)\n",
            "Requirement already satisfied: certifi in /usr/local/lib/python3.7/dist-packages (from kaggle) (2021.10.8)\n",
            "Requirement already satisfied: python-dateutil in /usr/local/lib/python3.7/dist-packages (from kaggle) (2.8.2)\n",
            "Requirement already satisfied: requests in /usr/local/lib/python3.7/dist-packages (from kaggle) (2.23.0)\n",
            "Requirement already satisfied: python-slugify in /usr/local/lib/python3.7/dist-packages (from kaggle) (6.1.2)\n",
            "Requirement already satisfied: six>=1.10 in /usr/local/lib/python3.7/dist-packages (from kaggle) (1.15.0)\n",
            "Requirement already satisfied: tqdm in /usr/local/lib/python3.7/dist-packages (from kaggle) (4.64.0)\n",
            "Requirement already satisfied: text-unidecode>=1.3 in /usr/local/lib/python3.7/dist-packages (from python-slugify->kaggle) (1.3)\n",
            "Requirement already satisfied: idna<3,>=2.5 in /usr/local/lib/python3.7/dist-packages (from requests->kaggle) (2.10)\n",
            "Requirement already satisfied: chardet<4,>=3.0.2 in /usr/local/lib/python3.7/dist-packages (from requests->kaggle) (3.0.4)\n"
          ]
        }
      ]
    },
    {
      "cell_type": "markdown",
      "source": [
        "## Questions"
      ],
      "metadata": {
        "id": "LGkb2-C_h7E9"
      }
    },
    {
      "cell_type": "markdown",
      "metadata": {
        "id": "Fdve57NuDMEf"
      },
      "source": [
        "**Question 1:** Select two books and construct networks of people and locations, i.e. each link is between a a person and a location (20pt). Visualize the network using Cytoscape or Gephi (20pt).\n"
      ]
    },
    {
      "cell_type": "code",
      "metadata": {
        "id": "n5T-SMZHDMEg",
        "colab": {
          "base_uri": "https://localhost:8080/"
        },
        "outputId": "71156c16-04ad-4e6f-e117-2284e13a7381"
      },
      "source": [
        "import kaggle\n",
        "!mkdir ./datasets\n",
        "!mkdir ./datasets/dickens\n",
        "\n",
        "# download the dataset from Kaggle and unzip it\n",
        "!kaggle datasets download fuzzyfroghunter/dickens -p ./datasets/\n",
        "!unzip ./datasets/dickens.zip  -d ./datasets/"
      ],
      "execution_count": null,
      "outputs": [
        {
          "output_type": "stream",
          "name": "stdout",
          "text": [
            "mkdir: cannot create directory ‘./datasets’: File exists\n",
            "mkdir: cannot create directory ‘./datasets/dickens’: File exists\n",
            "dickens.zip: Skipping, found more recently modified local copy (use --force to force download)\n",
            "Archive:  ./datasets/dickens.zip\n",
            "replace ./datasets/dickens/1289-0.txt? [y]es, [n]o, [A]ll, [N]one, [r]ename: A\n",
            "  inflating: ./datasets/dickens/1289-0.txt  \n",
            "  inflating: ./datasets/dickens/1400-0.txt  \n",
            "  inflating: ./datasets/dickens/1467-0.txt  \n",
            "  inflating: ./datasets/dickens/27924-0.txt  \n",
            "  inflating: ./datasets/dickens/564-0.txt  \n",
            "  inflating: ./datasets/dickens/580-0.txt  \n",
            "  inflating: ./datasets/dickens/644-0.txt  \n",
            "  inflating: ./datasets/dickens/650-0.txt  \n",
            "  inflating: ./datasets/dickens/653-0.txt  \n",
            "  inflating: ./datasets/dickens/675-0.txt  \n",
            "  inflating: ./datasets/dickens/678-0.txt  \n",
            "  inflating: ./datasets/dickens/700-0.txt  \n",
            "  inflating: ./datasets/dickens/766-0.txt  \n",
            "  inflating: ./datasets/dickens/786-0.txt  \n",
            "  inflating: ./datasets/dickens/807-0.txt  \n",
            "  inflating: ./datasets/dickens/882-0.txt  \n",
            "  inflating: ./datasets/dickens/883-0.txt  \n",
            "  inflating: ./datasets/dickens/914-0.txt  \n",
            "  inflating: ./datasets/dickens/917-0.txt  \n",
            "  inflating: ./datasets/dickens/924-0.txt  \n",
            "  inflating: ./datasets/dickens/963-0.txt  \n",
            "  inflating: ./datasets/dickens/967-0.txt  \n",
            "  inflating: ./datasets/dickens/98-0.txt  \n",
            "  inflating: ./datasets/dickens/metadata.tsv  \n",
            "  inflating: ./datasets/dickens/pg1023.txt  \n",
            "  inflating: ./datasets/dickens/pg1392.txt  \n",
            "  inflating: ./datasets/dickens/pg1407.txt  \n",
            "  inflating: ./datasets/dickens/pg19337.txt  \n",
            "  inflating: ./datasets/dickens/pg23344.txt  \n",
            "  inflating: ./datasets/dickens/pg32241.txt  \n",
            "  inflating: ./datasets/dickens/pg676.txt  \n",
            "  inflating: ./datasets/dickens/pg699.txt  \n",
            "  inflating: ./datasets/dickens/pg730.txt  \n"
          ]
        }
      ]
    },
    {
      "cell_type": "code",
      "source": [
        "import spacy\n",
        "nlp = spacy.load('en_core_web_lg')\n",
        "\n",
        "datasets_path = \"./datasets/dickens\"\n",
        "seven_poor_travellers_path = f\"{datasets_path}/pg1392.txt\"\n",
        "oliver_path = f\"{datasets_path}/pg730.txt\""
      ],
      "metadata": {
        "id": "yJqainBbaXHT"
      },
      "execution_count": null,
      "outputs": []
    },
    {
      "cell_type": "code",
      "source": [
        "from tqdm import tqdm\n",
        "txt_seven_poor_travellers = open(seven_poor_travellers_path).read()\n",
        "txt_oliver = open(oliver_path).read()\n",
        "spt_paragraphs_list = txt_seven_poor_travellers.split(\"\\n\\n\")\n",
        "o_paragraphs_list = txt_oliver.split(\"\\n\\n\")\n",
        "spt_links_dict = {}\n",
        "o_links_dict = {}\n",
        "\n",
        "def get_person_locations_links(txt):\n",
        "    links_set = set()\n",
        "    doc = nlp(txt)\n",
        "    l = [entity.text.lower().strip() for entity in doc.ents if entity.label_ == \"PERSON\"]\n",
        "    g = [entity.text.lower().strip() for entity in doc.ents if entity.label_ == \"LOC\" or entity.label_ == \"GPE\"]\n",
        "\n",
        "    for e1 in l:\n",
        "        for e2 in g:\n",
        "            if len(e1) < 2:\n",
        "                continue\n",
        "            links_set.add((e1,e2))\n",
        "\n",
        "    return links_set\n",
        "\n",
        "seven_poor_travellers_links_list = []\n",
        "oliver_links_list = []\n",
        "\n",
        "for para in tqdm(spt_paragraphs_list):\n",
        "\n",
        "    # for each paragraph each link counts only once\n",
        "    seven_poor_travellers_links_list += list(get_person_locations_links(para))\n",
        "\n",
        "for para in tqdm(o_paragraphs_list):\n",
        "\n",
        "    # for each paragraph each link counts only once\n",
        "    oliver_links_list += list(get_person_locations_links(para))"
      ],
      "metadata": {
        "colab": {
          "base_uri": "https://localhost:8080/"
        },
        "id": "Mayrqx-fc23s",
        "outputId": "46f9565b-2c72-47f0-b997-4c47d7ed246a"
      },
      "execution_count": null,
      "outputs": [
        {
          "output_type": "stream",
          "name": "stderr",
          "text": [
            "100%|██████████| 237/237 [00:08<00:00, 29.20it/s]\n",
            "100%|██████████| 4088/4088 [00:52<00:00, 77.26it/s]\n"
          ]
        }
      ]
    },
    {
      "cell_type": "code",
      "source": [
        "from collections import Counter\n",
        "import networkx as nx\n",
        "\n",
        "spt_c = Counter(seven_poor_travellers_links_list)\n",
        "o_c = Counter(oliver_links_list)"
      ],
      "metadata": {
        "id": "H1PJ-tWJfr_S"
      },
      "execution_count": null,
      "outputs": []
    },
    {
      "cell_type": "code",
      "source": [
        "spt_g = nx.Graph()\n",
        "\n",
        "for e,count in dict(spt_c).items():\n",
        "    if count < 2:\n",
        "        # only links that appeared at least 2 times\n",
        "        continue\n",
        "    v1,v2 = e\n",
        "    spt_g.add_node(v1, type=\"person\")\n",
        "    spt_g.add_node(v2, type=\"location\")\n",
        "    spt_g.add_edge(v1,v2, weight=count)\n",
        "\n",
        "nx.info(spt_g)\n"
      ],
      "metadata": {
        "colab": {
          "base_uri": "https://localhost:8080/",
          "height": 36
        },
        "id": "ZBJuoJ98gO7D",
        "outputId": "57d071fc-8af8-4603-adb9-e3cf93aa28dc"
      },
      "execution_count": null,
      "outputs": [
        {
          "output_type": "execute_result",
          "data": {
            "text/plain": [
              "'Graph with 11 nodes and 8 edges'"
            ],
            "application/vnd.google.colaboratory.intrinsic+json": {
              "type": "string"
            }
          },
          "metadata": {},
          "execution_count": 8
        }
      ]
    },
    {
      "cell_type": "code",
      "source": [
        "nx.write_gexf(spt_g, \"./datasets/dickens/seven_poor_travellers_network_full.gexf\")"
      ],
      "metadata": {
        "id": "xeyrT4Y9isrK"
      },
      "execution_count": null,
      "outputs": []
    },
    {
      "cell_type": "markdown",
      "source": [
        "![spt.png](data:image/png;base64,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)"
      ],
      "metadata": {
        "id": "6IR0rKXKnXZq"
      }
    },
    {
      "cell_type": "code",
      "source": [
        "o_g = nx.Graph()\n",
        "\n",
        "for e,count in dict(o_c).items():\n",
        "    if count < 2:\n",
        "        # only links that appeared at least 2 times\n",
        "        continue\n",
        "    v1,v2 = e\n",
        "    o_g.add_node(v1, type=\"person\")\n",
        "    o_g.add_node(v2, type=\"location\")\n",
        "    o_g.add_edge(v1,v2, weight=count)\n",
        "\n",
        "nx.info(o_g)\n"
      ],
      "metadata": {
        "colab": {
          "base_uri": "https://localhost:8080/",
          "height": 36
        },
        "id": "-76n6OgigQAN",
        "outputId": "5d707b51-0f9c-42c5-eb5c-cd7b7e5d1654"
      },
      "execution_count": null,
      "outputs": [
        {
          "output_type": "execute_result",
          "data": {
            "text/plain": [
              "'Graph with 23 nodes and 23 edges'"
            ],
            "application/vnd.google.colaboratory.intrinsic+json": {
              "type": "string"
            }
          },
          "metadata": {},
          "execution_count": 10
        }
      ]
    },
    {
      "cell_type": "code",
      "source": [
        "nx.write_gexf(o_g, \"./datasets/dickens/oliver_network_full.gexf\")"
      ],
      "metadata": {
        "id": "I12KhVOEkbVE"
      },
      "execution_count": null,
      "outputs": []
    },
    {
      "cell_type": "markdown",
      "source": [
        "![oliver.png](data:image/png;base64,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)"
      ],
      "metadata": {
        "id": "j23dhygnoK55"
      }
    },
    {
      "cell_type": "markdown",
      "metadata": {
        "id": "tEHVwYACDMEl"
      },
      "source": [
        "**Question 2:** Use the [Friends TV Show Transcript](https://www.kaggle.com/ryanstonebraker/friends-transcript)\n",
        "to create and evaluate a classifier that given a line of text can predict\n",
        " who is the \"friend\" that said it (20pt). Using sentiment analysis identify who are the most and less friendly friends (20pt). Construct a classifier that can be given several text lines (quotes) from a specific episode that will predict the episode's season number (20pt)."
      ]
    },
    {
      "cell_type": "code",
      "metadata": {
        "id": "IIh11ESmDMEm",
        "colab": {
          "base_uri": "https://localhost:8080/"
        },
        "outputId": "2cf36932-fe62-44ed-97a9-b5fb99717940"
      },
      "source": [
        "!kaggle datasets list -s 'Friends TV Show Transcript'"
      ],
      "execution_count": null,
      "outputs": [
        {
          "output_type": "stream",
          "name": "stdout",
          "text": [
            "ref                                 title                       size  lastUpdated          downloadCount  voteCount  usabilityRating  \n",
            "----------------------------------  --------------------------  ----  -------------------  -------------  ---------  ---------------  \n",
            "ryanstonebraker/friends-transcript  Friends TV Show Transcript   2MB  2020-04-28 00:35:59           1344         13  0.7058824        \n"
          ]
        }
      ]
    },
    {
      "cell_type": "code",
      "source": [
        "!mkdir ./datasets/friends-transcript\n",
        "\n",
        "# download the dataset from Kaggle and unzip it\n",
        "!kaggle datasets download ryanstonebraker/friends-transcript -p ./datasets/friends-transcript/\n",
        "!unzip ./datasets/friends-transcript/friends-transcript.zip  -d ./datasets/friends-transcript/"
      ],
      "metadata": {
        "colab": {
          "base_uri": "https://localhost:8080/"
        },
        "id": "pzQkN8VSoiee",
        "outputId": "b784e4c5-9625-4c07-ddde-96ad7d3930e6"
      },
      "execution_count": null,
      "outputs": [
        {
          "output_type": "stream",
          "name": "stdout",
          "text": [
            "mkdir: cannot create directory ‘./datasets/friends-transcript’: File exists\n",
            "friends-transcript.zip: Skipping, found more recently modified local copy (use --force to force download)\n",
            "Archive:  ./datasets/friends-transcript/friends-transcript.zip\n",
            "replace ./datasets/friends-transcript/friends_quotes.csv? [y]es, [n]o, [A]ll, [N]one, [r]ename: A\n",
            "  inflating: ./datasets/friends-transcript/friends_quotes.csv  \n"
          ]
        }
      ]
    },
    {
      "cell_type": "code",
      "source": [
        "import turicreate as tc\n",
        "sf = tc.SFrame.read_csv('./datasets/friends-transcript/friends_quotes.csv')\n",
        "sf"
      ],
      "metadata": {
        "colab": {
          "base_uri": "https://localhost:8080/",
          "height": 602
        },
        "id": "LxVHgJqppZKc",
        "outputId": "20deea43-e608-4057-c4a6-440be62f8857"
      },
      "execution_count": null,
      "outputs": [
        {
          "output_type": "display_data",
          "data": {
            "text/plain": [
              "Finished parsing file /content/datasets/friends-transcript/friends_quotes.csv"
            ],
            "text/html": [
              "<pre>Finished parsing file /content/datasets/friends-transcript/friends_quotes.csv</pre>"
            ]
          },
          "metadata": {}
        },
        {
          "output_type": "display_data",
          "data": {
            "text/plain": [
              "Parsing completed. Parsed 100 lines in 0.23469 secs."
            ],
            "text/html": [
              "<pre>Parsing completed. Parsed 100 lines in 0.23469 secs.</pre>"
            ]
          },
          "metadata": {}
        },
        {
          "output_type": "stream",
          "name": "stdout",
          "text": [
            "------------------------------------------------------\n",
            "Inferred types from first 100 line(s) of file as \n",
            "column_type_hints=[str,float,str,str,float,float]\n",
            "If parsing fails due to incorrect types, you can correct\n",
            "the inferred type list above and pass it to read_csv in\n",
            "the column_type_hints argument\n",
            "------------------------------------------------------\n"
          ]
        },
        {
          "output_type": "display_data",
          "data": {
            "text/plain": [
              "Finished parsing file /content/datasets/friends-transcript/friends_quotes.csv"
            ],
            "text/html": [
              "<pre>Finished parsing file /content/datasets/friends-transcript/friends_quotes.csv</pre>"
            ]
          },
          "metadata": {}
        },
        {
          "output_type": "display_data",
          "data": {
            "text/plain": [
              "Parsing completed. Parsed 60291 lines in 0.144556 secs."
            ],
            "text/html": [
              "<pre>Parsing completed. Parsed 60291 lines in 0.144556 secs.</pre>"
            ]
          },
          "metadata": {}
        },
        {
          "output_type": "execute_result",
          "data": {
            "text/plain": [
              "Columns:\n",
              "\tauthor\tstr\n",
              "\tepisode_number\tfloat\n",
              "\tepisode_title\tstr\n",
              "\tquote\tstr\n",
              "\tquote_order\tfloat\n",
              "\tseason\tfloat\n",
              "\n",
              "Rows: 60291\n",
              "\n",
              "Data:\n",
              "+----------+----------------+------------------------+\n",
              "|  author  | episode_number |     episode_title      |\n",
              "+----------+----------------+------------------------+\n",
              "|  Monica  |      1.0       | Monica Gets A Roommate |\n",
              "|   Joey   |      1.0       | Monica Gets A Roommate |\n",
              "| Chandler |      1.0       | Monica Gets A Roommate |\n",
              "|  Phoebe  |      1.0       | Monica Gets A Roommate |\n",
              "|  Phoebe  |      1.0       | Monica Gets A Roommate |\n",
              "|  Monica  |      1.0       | Monica Gets A Roommate |\n",
              "| Chandler |      1.0       | Monica Gets A Roommate |\n",
              "| Chandler |      1.0       | Monica Gets A Roommate |\n",
              "|   All    |      1.0       | Monica Gets A Roommate |\n",
              "| Chandler |      1.0       | Monica Gets A Roommate |\n",
              "+----------+----------------+------------------------+\n",
              "+-------------------------------+-------------+--------+\n",
              "|             quote             | quote_order | season |\n",
              "+-------------------------------+-------------+--------+\n",
              "| There's nothing to tell! H... |     0.0     |  1.0   |\n",
              "| C'mon, you're going out wi... |     1.0     |  1.0   |\n",
              "| All right Joey, be nice. S... |     2.0     |  1.0   |\n",
              "|    Wait, does he eat chalk?   |     3.0     |  1.0   |\n",
              "| Just, 'cause, I don't want... |     4.0     |  1.0   |\n",
              "| Okay, everybody relax. Thi... |     5.0     |  1.0   |\n",
              "|   Sounds like a date to me.   |     6.0     |  1.0   |\n",
              "| Alright, so I'm back in hi... |     7.0     |  1.0   |\n",
              "|   Oh, yeah. Had that dream.   |     8.0     |  1.0   |\n",
              "| Then I look down, and I re... |     9.0     |  1.0   |\n",
              "+-------------------------------+-------------+--------+\n",
              "[60291 rows x 6 columns]\n",
              "Note: Only the head of the SFrame is printed.\n",
              "You can use print_rows(num_rows=m, num_columns=n) to print more rows and columns."
            ],
            "text/html": [
              "<div style=\"max-height:1000px;max-width:1500px;overflow:auto;\"><table frame=\"box\" rules=\"cols\">\n",
              "    <tr>\n",
              "        <th style=\"padding-left: 1em; padding-right: 1em; text-align: center\">author</th>\n",
              "        <th style=\"padding-left: 1em; padding-right: 1em; text-align: center\">episode_number</th>\n",
              "        <th style=\"padding-left: 1em; padding-right: 1em; text-align: center\">episode_title</th>\n",
              "        <th style=\"padding-left: 1em; padding-right: 1em; text-align: center\">quote</th>\n",
              "        <th style=\"padding-left: 1em; padding-right: 1em; text-align: center\">quote_order</th>\n",
              "        <th style=\"padding-left: 1em; padding-right: 1em; text-align: center\">season</th>\n",
              "    </tr>\n",
              "    <tr>\n",
              "        <td style=\"padding-left: 1em; padding-right: 1em; text-align: center; vertical-align: top\">Monica</td>\n",
              "        <td style=\"padding-left: 1em; padding-right: 1em; text-align: center; vertical-align: top\">1.0</td>\n",
              "        <td style=\"padding-left: 1em; padding-right: 1em; text-align: center; vertical-align: top\">Monica Gets A Roommate</td>\n",
              "        <td style=\"padding-left: 1em; padding-right: 1em; text-align: center; vertical-align: top\">There&#x27;s nothing to tell!<br>He&#x27;s just some guy I  ...</td>\n",
              "        <td style=\"padding-left: 1em; padding-right: 1em; text-align: center; vertical-align: top\">0.0</td>\n",
              "        <td style=\"padding-left: 1em; padding-right: 1em; text-align: center; vertical-align: top\">1.0</td>\n",
              "    </tr>\n",
              "    <tr>\n",
              "        <td style=\"padding-left: 1em; padding-right: 1em; text-align: center; vertical-align: top\">Joey</td>\n",
              "        <td style=\"padding-left: 1em; padding-right: 1em; text-align: center; vertical-align: top\">1.0</td>\n",
              "        <td style=\"padding-left: 1em; padding-right: 1em; text-align: center; vertical-align: top\">Monica Gets A Roommate</td>\n",
              "        <td style=\"padding-left: 1em; padding-right: 1em; text-align: center; vertical-align: top\">C&#x27;mon, you&#x27;re going out<br>with the guy! There&#x27;s ...</td>\n",
              "        <td style=\"padding-left: 1em; padding-right: 1em; text-align: center; vertical-align: top\">1.0</td>\n",
              "        <td style=\"padding-left: 1em; padding-right: 1em; text-align: center; vertical-align: top\">1.0</td>\n",
              "    </tr>\n",
              "    <tr>\n",
              "        <td style=\"padding-left: 1em; padding-right: 1em; text-align: center; vertical-align: top\">Chandler</td>\n",
              "        <td style=\"padding-left: 1em; padding-right: 1em; text-align: center; vertical-align: top\">1.0</td>\n",
              "        <td style=\"padding-left: 1em; padding-right: 1em; text-align: center; vertical-align: top\">Monica Gets A Roommate</td>\n",
              "        <td style=\"padding-left: 1em; padding-right: 1em; text-align: center; vertical-align: top\">All right Joey, be nice.<br>So does he have a hum ...</td>\n",
              "        <td style=\"padding-left: 1em; padding-right: 1em; text-align: center; vertical-align: top\">2.0</td>\n",
              "        <td style=\"padding-left: 1em; padding-right: 1em; text-align: center; vertical-align: top\">1.0</td>\n",
              "    </tr>\n",
              "    <tr>\n",
              "        <td style=\"padding-left: 1em; padding-right: 1em; text-align: center; vertical-align: top\">Phoebe</td>\n",
              "        <td style=\"padding-left: 1em; padding-right: 1em; text-align: center; vertical-align: top\">1.0</td>\n",
              "        <td style=\"padding-left: 1em; padding-right: 1em; text-align: center; vertical-align: top\">Monica Gets A Roommate</td>\n",
              "        <td style=\"padding-left: 1em; padding-right: 1em; text-align: center; vertical-align: top\">Wait, does he eat chalk?</td>\n",
              "        <td style=\"padding-left: 1em; padding-right: 1em; text-align: center; vertical-align: top\">3.0</td>\n",
              "        <td style=\"padding-left: 1em; padding-right: 1em; text-align: center; vertical-align: top\">1.0</td>\n",
              "    </tr>\n",
              "    <tr>\n",
              "        <td style=\"padding-left: 1em; padding-right: 1em; text-align: center; vertical-align: top\">Phoebe</td>\n",
              "        <td style=\"padding-left: 1em; padding-right: 1em; text-align: center; vertical-align: top\">1.0</td>\n",
              "        <td style=\"padding-left: 1em; padding-right: 1em; text-align: center; vertical-align: top\">Monica Gets A Roommate</td>\n",
              "        <td style=\"padding-left: 1em; padding-right: 1em; text-align: center; vertical-align: top\">Just, &#x27;cause, I don&#x27;t<br>want her to go through ...</td>\n",
              "        <td style=\"padding-left: 1em; padding-right: 1em; text-align: center; vertical-align: top\">4.0</td>\n",
              "        <td style=\"padding-left: 1em; padding-right: 1em; text-align: center; vertical-align: top\">1.0</td>\n",
              "    </tr>\n",
              "    <tr>\n",
              "        <td style=\"padding-left: 1em; padding-right: 1em; text-align: center; vertical-align: top\">Monica</td>\n",
              "        <td style=\"padding-left: 1em; padding-right: 1em; text-align: center; vertical-align: top\">1.0</td>\n",
              "        <td style=\"padding-left: 1em; padding-right: 1em; text-align: center; vertical-align: top\">Monica Gets A Roommate</td>\n",
              "        <td style=\"padding-left: 1em; padding-right: 1em; text-align: center; vertical-align: top\">Okay, everybody relax.<br>This is not even a date. ...</td>\n",
              "        <td style=\"padding-left: 1em; padding-right: 1em; text-align: center; vertical-align: top\">5.0</td>\n",
              "        <td style=\"padding-left: 1em; padding-right: 1em; text-align: center; vertical-align: top\">1.0</td>\n",
              "    </tr>\n",
              "    <tr>\n",
              "        <td style=\"padding-left: 1em; padding-right: 1em; text-align: center; vertical-align: top\">Chandler</td>\n",
              "        <td style=\"padding-left: 1em; padding-right: 1em; text-align: center; vertical-align: top\">1.0</td>\n",
              "        <td style=\"padding-left: 1em; padding-right: 1em; text-align: center; vertical-align: top\">Monica Gets A Roommate</td>\n",
              "        <td style=\"padding-left: 1em; padding-right: 1em; text-align: center; vertical-align: top\">Sounds like a date to me.</td>\n",
              "        <td style=\"padding-left: 1em; padding-right: 1em; text-align: center; vertical-align: top\">6.0</td>\n",
              "        <td style=\"padding-left: 1em; padding-right: 1em; text-align: center; vertical-align: top\">1.0</td>\n",
              "    </tr>\n",
              "    <tr>\n",
              "        <td style=\"padding-left: 1em; padding-right: 1em; text-align: center; vertical-align: top\">Chandler</td>\n",
              "        <td style=\"padding-left: 1em; padding-right: 1em; text-align: center; vertical-align: top\">1.0</td>\n",
              "        <td style=\"padding-left: 1em; padding-right: 1em; text-align: center; vertical-align: top\">Monica Gets A Roommate</td>\n",
              "        <td style=\"padding-left: 1em; padding-right: 1em; text-align: center; vertical-align: top\">Alright, so I&#x27;m back in<br>high school, I&#x27;m stan ...</td>\n",
              "        <td style=\"padding-left: 1em; padding-right: 1em; text-align: center; vertical-align: top\">7.0</td>\n",
              "        <td style=\"padding-left: 1em; padding-right: 1em; text-align: center; vertical-align: top\">1.0</td>\n",
              "    </tr>\n",
              "    <tr>\n",
              "        <td style=\"padding-left: 1em; padding-right: 1em; text-align: center; vertical-align: top\">All</td>\n",
              "        <td style=\"padding-left: 1em; padding-right: 1em; text-align: center; vertical-align: top\">1.0</td>\n",
              "        <td style=\"padding-left: 1em; padding-right: 1em; text-align: center; vertical-align: top\">Monica Gets A Roommate</td>\n",
              "        <td style=\"padding-left: 1em; padding-right: 1em; text-align: center; vertical-align: top\">Oh, yeah. Had that dream.</td>\n",
              "        <td style=\"padding-left: 1em; padding-right: 1em; text-align: center; vertical-align: top\">8.0</td>\n",
              "        <td style=\"padding-left: 1em; padding-right: 1em; text-align: center; vertical-align: top\">1.0</td>\n",
              "    </tr>\n",
              "    <tr>\n",
              "        <td style=\"padding-left: 1em; padding-right: 1em; text-align: center; vertical-align: top\">Chandler</td>\n",
              "        <td style=\"padding-left: 1em; padding-right: 1em; text-align: center; vertical-align: top\">1.0</td>\n",
              "        <td style=\"padding-left: 1em; padding-right: 1em; text-align: center; vertical-align: top\">Monica Gets A Roommate</td>\n",
              "        <td style=\"padding-left: 1em; padding-right: 1em; text-align: center; vertical-align: top\">Then I look down, and I<br>realize there&#x27;s a ...</td>\n",
              "        <td style=\"padding-left: 1em; padding-right: 1em; text-align: center; vertical-align: top\">9.0</td>\n",
              "        <td style=\"padding-left: 1em; padding-right: 1em; text-align: center; vertical-align: top\">1.0</td>\n",
              "    </tr>\n",
              "</table>\n",
              "[60291 rows x 6 columns]<br/>Note: Only the head of the SFrame is printed.<br/>You can use print_rows(num_rows=m, num_columns=n) to print more rows and columns.\n",
              "</div>"
            ]
          },
          "metadata": {},
          "execution_count": 14
        }
      ]
    },
    {
      "cell_type": "code",
      "source": [
        "def get_friend(friend):\n",
        "    f = str(friend).lower()\n",
        "    if f not in ['monica', 'joey', 'chandler', 'phoebe', 'rachel', 'ross']:\n",
        "        return None\n",
        "    return f\n",
        "\n",
        "sf['author'] = sf['author'].apply(lambda g: get_friend(g))"
      ],
      "metadata": {
        "id": "Z7rxZVNCwclP"
      },
      "execution_count": null,
      "outputs": []
    },
    {
      "cell_type": "markdown",
      "source": [
        "Use the Friends TV Show Transcript to create and evaluate a classifier that given a line of text can predict who is the \"friend\" that said it:"
      ],
      "metadata": {
        "id": "Wv2rKMf1sXuc"
      }
    },
    {
      "cell_type": "code",
      "source": [
        "import turicreate.aggregate as agg\n",
        "\n",
        "sf = sf[sf['author'] != None]\n",
        "g = sf.groupby('author', {'count':agg.COUNT()})\n",
        "g = g.sort(\"count\", ascending=False)\n",
        "df = g.to_dataframe()\n",
        "g.print_rows()"
      ],
      "metadata": {
        "colab": {
          "base_uri": "https://localhost:8080/"
        },
        "id": "LjoDCz3HsYzb",
        "outputId": "76450352-9c5a-43fd-8db4-d83f30f07fbc"
      },
      "execution_count": null,
      "outputs": [
        {
          "output_type": "stream",
          "name": "stdout",
          "text": [
            "+----------+-------+\n",
            "|  author  | count |\n",
            "+----------+-------+\n",
            "|  rachel  |  8956 |\n",
            "|   ross   |  8921 |\n",
            "| chandler |  8180 |\n",
            "|  monica  |  8175 |\n",
            "|   joey   |  8016 |\n",
            "|  phoebe  |  7261 |\n",
            "+----------+-------+\n",
            "[6 rows x 2 columns]\n",
            "\n"
          ]
        }
      ]
    },
    {
      "cell_type": "code",
      "source": [
        "import matplotlib.pyplot as plt\n",
        "import seaborn as sns\n",
        "\n",
        "plt.figure(figsize=(15,8))\n",
        "sns.barplot(y=df['author'], x=df[\"count\"], palette=\"rocket\")"
      ],
      "metadata": {
        "colab": {
          "base_uri": "https://localhost:8080/",
          "height": 515
        },
        "id": "Z-V9chqZta3P",
        "outputId": "0b672242-9dff-4a7a-b1b6-d17b279d57d7"
      },
      "execution_count": null,
      "outputs": [
        {
          "output_type": "execute_result",
          "data": {
            "text/plain": [
              "<matplotlib.axes._subplots.AxesSubplot at 0x7f999b7ef650>"
            ]
          },
          "metadata": {},
          "execution_count": 17
        },
        {
          "output_type": "display_data",
          "data": {
            "text/plain": [
              "<Figure size 1080x576 with 1 Axes>"
            ],
            "image/png": "[encoded data removed]"
          },
          "metadata": {
            "needs_background": "light"
          }
        }
      ]
    },
    {
      "cell_type": "code",
      "source": [
        "from tqdm import tqdm\n",
        "vector_list = []\n",
        "for plot in tqdm(sf['quote']):\n",
        "    vector_list.append(nlp(plot).vector)\n",
        "sf['vector'] = vector_list"
      ],
      "metadata": {
        "colab": {
          "base_uri": "https://localhost:8080/"
        },
        "id": "ABV5YKXSttCI",
        "outputId": "a1d77beb-6580-443a-b522-c466c045d647"
      },
      "execution_count": null,
      "outputs": [
        {
          "output_type": "stream",
          "name": "stderr",
          "text": [
            "100%|██████████| 49509/49509 [06:33<00:00, 125.93it/s]\n"
          ]
        }
      ]
    },
    {
      "cell_type": "code",
      "source": [
        "sf['words_1grams'] = tc.text_analytics.count_ngrams(sf['quote'], n=1, method='word')\n",
        "sf['words_2grams'] = tc.text_analytics.count_ngrams(sf['quote'], n=2, method='word')"
      ],
      "metadata": {
        "id": "bDMBuslr76b9"
      },
      "execution_count": null,
      "outputs": []
    },
    {
      "cell_type": "code",
      "source": [
        "train,test = sf.random_split(0.8)\n",
        "cls = tc.classifier.create(train, features=['vector','words_1grams', 'words_2grams'], target=\"author\")"
      ],
      "metadata": {
        "colab": {
          "base_uri": "https://localhost:8080/",
          "height": 1000
        },
        "id": "mF9TubT7uE-f",
        "outputId": "d7322a94-a319-4365-9dd0-977d7f1336f1"
      },
      "execution_count": null,
      "outputs": [
        {
          "output_type": "stream",
          "name": "stdout",
          "text": [
            "PROGRESS: Creating a validation set from 5 percent of training data. This may take a while.\n",
            "          You can set ``validation_set=None`` to disable validation tracking.\n",
            "\n",
            "PROGRESS: The following methods are available for this type of problem.\n",
            "PROGRESS: BoostedTreesClassifier, RandomForestClassifier, DecisionTreeClassifier, LogisticClassifier\n",
            "PROGRESS: The returned model will be chosen according to validation accuracy.\n"
          ]
        },
        {
          "output_type": "display_data",
          "data": {
            "text/plain": [
              "Boosted trees classifier:"
            ],
            "text/html": [
              "<pre>Boosted trees classifier:</pre>"
            ]
          },
          "metadata": {}
        },
        {
          "output_type": "display_data",
          "data": {
            "text/plain": [
              "--------------------------------------------------------"
            ],
            "text/html": [
              "<pre>--------------------------------------------------------</pre>"
            ]
          },
          "metadata": {}
        },
        {
          "output_type": "display_data",
          "data": {
            "text/plain": [
              "Number of examples          : 37671"
            ],
            "text/html": [
              "<pre>Number of examples          : 37671</pre>"
            ]
          },
          "metadata": {}
        },
        {
          "output_type": "display_data",
          "data": {
            "text/plain": [
              "Number of classes           : 6"
            ],
            "text/html": [
              "<pre>Number of classes           : 6</pre>"
            ]
          },
          "metadata": {}
        },
        {
          "output_type": "display_data",
          "data": {
            "text/plain": [
              "Number of feature columns   : 3"
            ],
            "text/html": [
              "<pre>Number of feature columns   : 3</pre>"
            ]
          },
          "metadata": {}
        },
        {
          "output_type": "display_data",
          "data": {
            "text/plain": [
              "Number of unpacked features : 139197"
            ],
            "text/html": [
              "<pre>Number of unpacked features : 139197</pre>"
            ]
          },
          "metadata": {}
        },
        {
          "output_type": "display_data",
          "data": {
            "text/plain": [
              "+-----------+--------------+-------------------+---------------------+-------------------+---------------------+"
            ],
            "text/html": [
              "<pre>+-----------+--------------+-------------------+---------------------+-------------------+---------------------+</pre>"
            ]
          },
          "metadata": {}
        },
        {
          "output_type": "display_data",
          "data": {
            "text/plain": [
              "| Iteration | Elapsed Time | Training Accuracy | Validation Accuracy | Training Log Loss | Validation Log Loss |"
            ],
            "text/html": [
              "<pre>| Iteration | Elapsed Time | Training Accuracy | Validation Accuracy | Training Log Loss | Validation Log Loss |</pre>"
            ]
          },
          "metadata": {}
        },
        {
          "output_type": "display_data",
          "data": {
            "text/plain": [
              "+-----------+--------------+-------------------+---------------------+-------------------+---------------------+"
            ],
            "text/html": [
              "<pre>+-----------+--------------+-------------------+---------------------+-------------------+---------------------+</pre>"
            ]
          },
          "metadata": {}
        },
        {
          "output_type": "display_data",
          "data": {
            "text/plain": [
              "| 1         | 5.156867     | 0.278172          | 0.225416            | 1.759309          | 1.777431            |"
            ],
            "text/html": [
              "<pre>| 1         | 5.156867     | 0.278172          | 0.225416            | 1.759309          | 1.777431            |</pre>"
            ]
          },
          "metadata": {}
        },
        {
          "output_type": "display_data",
          "data": {
            "text/plain": [
              "| 2         | 10.497776    | 0.307717          | 0.217347            | 1.732311          | 1.769549            |"
            ],
            "text/html": [
              "<pre>| 2         | 10.497776    | 0.307717          | 0.217347            | 1.732311          | 1.769549            |</pre>"
            ]
          },
          "metadata": {}
        },
        {
          "output_type": "display_data",
          "data": {
            "text/plain": [
              "| 3         | 15.814685    | 0.322450          | 0.230459            | 1.710858          | 1.763334            |"
            ],
            "text/html": [
              "<pre>| 3         | 15.814685    | 0.322450          | 0.230459            | 1.710858          | 1.763334            |</pre>"
            ]
          },
          "metadata": {}
        },
        {
          "output_type": "display_data",
          "data": {
            "text/plain": [
              "| 4         | 21.186290    | 0.342943          | 0.235502            | 1.690508          | 1.759564            |"
            ],
            "text/html": [
              "<pre>| 4         | 21.186290    | 0.342943          | 0.235502            | 1.690508          | 1.759564            |</pre>"
            ]
          },
          "metadata": {}
        },
        {
          "output_type": "display_data",
          "data": {
            "text/plain": [
              "| 5         | 26.560235    | 0.358127          | 0.236006            | 1.672979          | 1.754586            |"
            ],
            "text/html": [
              "<pre>| 5         | 26.560235    | 0.358127          | 0.236006            | 1.672979          | 1.754586            |</pre>"
            ]
          },
          "metadata": {}
        },
        {
          "output_type": "display_data",
          "data": {
            "text/plain": [
              "| 7         | 36.795953    | 0.375674          | 0.246596            | 1.645630          | 1.744975            |"
            ],
            "text/html": [
              "<pre>| 7         | 36.795953    | 0.375674          | 0.246596            | 1.645630          | 1.744975            |</pre>"
            ]
          },
          "metadata": {}
        },
        {
          "output_type": "display_data",
          "data": {
            "text/plain": [
              "| 8         | 41.819423    | 0.387380          | 0.248613            | 1.632038          | 1.742042            |"
            ],
            "text/html": [
              "<pre>| 8         | 41.819423    | 0.387380          | 0.248613            | 1.632038          | 1.742042            |</pre>"
            ]
          },
          "metadata": {}
        },
        {
          "output_type": "display_data",
          "data": {
            "text/plain": [
              "| 9         | 46.533124    | 0.395105          | 0.249622            | 1.622079          | 1.737697            |"
            ],
            "text/html": [
              "<pre>| 9         | 46.533124    | 0.395105          | 0.249622            | 1.622079          | 1.737697            |</pre>"
            ]
          },
          "metadata": {}
        },
        {
          "output_type": "display_data",
          "data": {
            "text/plain": [
              "| 10        | 51.502190    | 0.400228          | 0.257690            | 1.612310          | 1.734854            |"
            ],
            "text/html": [
              "<pre>| 10        | 51.502190    | 0.400228          | 0.257690            | 1.612310          | 1.734854            |</pre>"
            ]
          },
          "metadata": {}
        },
        {
          "output_type": "display_data",
          "data": {
            "text/plain": [
              "+-----------+--------------+-------------------+---------------------+-------------------+---------------------+"
            ],
            "text/html": [
              "<pre>+-----------+--------------+-------------------+---------------------+-------------------+---------------------+</pre>"
            ]
          },
          "metadata": {}
        },
        {
          "output_type": "display_data",
          "data": {
            "text/plain": [
              "Random forest classifier:"
            ],
            "text/html": [
              "<pre>Random forest classifier:</pre>"
            ]
          },
          "metadata": {}
        },
        {
          "output_type": "display_data",
          "data": {
            "text/plain": [
              "--------------------------------------------------------"
            ],
            "text/html": [
              "<pre>--------------------------------------------------------</pre>"
            ]
          },
          "metadata": {}
        },
        {
          "output_type": "display_data",
          "data": {
            "text/plain": [
              "Number of examples          : 37671"
            ],
            "text/html": [
              "<pre>Number of examples          : 37671</pre>"
            ]
          },
          "metadata": {}
        },
        {
          "output_type": "display_data",
          "data": {
            "text/plain": [
              "Number of classes           : 6"
            ],
            "text/html": [
              "<pre>Number of classes           : 6</pre>"
            ]
          },
          "metadata": {}
        },
        {
          "output_type": "display_data",
          "data": {
            "text/plain": [
              "Number of feature columns   : 3"
            ],
            "text/html": [
              "<pre>Number of feature columns   : 3</pre>"
            ]
          },
          "metadata": {}
        },
        {
          "output_type": "display_data",
          "data": {
            "text/plain": [
              "Number of unpacked features : 139197"
            ],
            "text/html": [
              "<pre>Number of unpacked features : 139197</pre>"
            ]
          },
          "metadata": {}
        },
        {
          "output_type": "display_data",
          "data": {
            "text/plain": [
              "+-----------+--------------+-------------------+---------------------+-------------------+---------------------+"
            ],
            "text/html": [
              "<pre>+-----------+--------------+-------------------+---------------------+-------------------+---------------------+</pre>"
            ]
          },
          "metadata": {}
        },
        {
          "output_type": "display_data",
          "data": {
            "text/plain": [
              "| Iteration | Elapsed Time | Training Accuracy | Validation Accuracy | Training Log Loss | Validation Log Loss |"
            ],
            "text/html": [
              "<pre>| Iteration | Elapsed Time | Training Accuracy | Validation Accuracy | Training Log Loss | Validation Log Loss |</pre>"
            ]
          },
          "metadata": {}
        },
        {
          "output_type": "display_data",
          "data": {
            "text/plain": [
              "+-----------+--------------+-------------------+---------------------+-------------------+---------------------+"
            ],
            "text/html": [
              "<pre>+-----------+--------------+-------------------+---------------------+-------------------+---------------------+</pre>"
            ]
          },
          "metadata": {}
        },
        {
          "output_type": "display_data",
          "data": {
            "text/plain": [
              "| 1         | 4.366678     | 0.264580          | 0.218356            | 1.722074          | 1.766999            |"
            ],
            "text/html": [
              "<pre>| 1         | 4.366678     | 0.264580          | 0.218356            | 1.722074          | 1.766999            |</pre>"
            ]
          },
          "metadata": {}
        },
        {
          "output_type": "display_data",
          "data": {
            "text/plain": [
              "| 2         | 8.695091     | 0.293329          | 0.238527            | 1.710503          | 1.759452            |"
            ],
            "text/html": [
              "<pre>| 2         | 8.695091     | 0.293329          | 0.238527            | 1.710503          | 1.759452            |</pre>"
            ]
          },
          "metadata": {}
        },
        {
          "output_type": "display_data",
          "data": {
            "text/plain": [
              "| 3         | 13.039871    | 0.302355          | 0.238023            | 1.705587          | 1.756616            |"
            ],
            "text/html": [
              "<pre>| 3         | 13.039871    | 0.302355          | 0.238023            | 1.705587          | 1.756616            |</pre>"
            ]
          },
          "metadata": {}
        },
        {
          "output_type": "display_data",
          "data": {
            "text/plain": [
              "| 4         | 17.145182    | 0.308699          | 0.237015            | 1.703303          | 1.752789            |"
            ],
            "text/html": [
              "<pre>| 4         | 17.145182    | 0.308699          | 0.237015            | 1.703303          | 1.752789            |</pre>"
            ]
          },
          "metadata": {}
        },
        {
          "output_type": "display_data",
          "data": {
            "text/plain": [
              "| 5         | 21.330748    | 0.313822          | 0.250126            | 1.701797          | 1.751147            |"
            ],
            "text/html": [
              "<pre>| 5         | 21.330748    | 0.313822          | 0.250126            | 1.701797          | 1.751147            |</pre>"
            ]
          },
          "metadata": {}
        },
        {
          "output_type": "display_data",
          "data": {
            "text/plain": [
              "| 7         | 29.971650    | 0.325874          | 0.241049            | 1.699161          | 1.752554            |"
            ],
            "text/html": [
              "<pre>| 7         | 29.971650    | 0.325874          | 0.241049            | 1.699161          | 1.752554            |</pre>"
            ]
          },
          "metadata": {}
        },
        {
          "output_type": "display_data",
          "data": {
            "text/plain": [
              "| 8         | 34.501982    | 0.328077          | 0.240545            | 1.698835          | 1.752840            |"
            ],
            "text/html": [
              "<pre>| 8         | 34.501982    | 0.328077          | 0.240545            | 1.698835          | 1.752840            |</pre>"
            ]
          },
          "metadata": {}
        },
        {
          "output_type": "display_data",
          "data": {
            "text/plain": [
              "| 9         | 38.753181    | 0.327679          | 0.241049            | 1.698513          | 1.752732            |"
            ],
            "text/html": [
              "<pre>| 9         | 38.753181    | 0.327679          | 0.241049            | 1.698513          | 1.752732            |</pre>"
            ]
          },
          "metadata": {}
        },
        {
          "output_type": "display_data",
          "data": {
            "text/plain": [
              "| 10        | 42.939671    | 0.330466          | 0.243066            | 1.698549          | 1.753024            |"
            ],
            "text/html": [
              "<pre>| 10        | 42.939671    | 0.330466          | 0.243066            | 1.698549          | 1.753024            |</pre>"
            ]
          },
          "metadata": {}
        },
        {
          "output_type": "display_data",
          "data": {
            "text/plain": [
              "+-----------+--------------+-------------------+---------------------+-------------------+---------------------+"
            ],
            "text/html": [
              "<pre>+-----------+--------------+-------------------+---------------------+-------------------+---------------------+</pre>"
            ]
          },
          "metadata": {}
        },
        {
          "output_type": "display_data",
          "data": {
            "text/plain": [
              "Decision tree classifier:"
            ],
            "text/html": [
              "<pre>Decision tree classifier:</pre>"
            ]
          },
          "metadata": {}
        },
        {
          "output_type": "display_data",
          "data": {
            "text/plain": [
              "--------------------------------------------------------"
            ],
            "text/html": [
              "<pre>--------------------------------------------------------</pre>"
            ]
          },
          "metadata": {}
        },
        {
          "output_type": "display_data",
          "data": {
            "text/plain": [
              "Number of examples          : 37671"
            ],
            "text/html": [
              "<pre>Number of examples          : 37671</pre>"
            ]
          },
          "metadata": {}
        },
        {
          "output_type": "display_data",
          "data": {
            "text/plain": [
              "Number of classes           : 6"
            ],
            "text/html": [
              "<pre>Number of classes           : 6</pre>"
            ]
          },
          "metadata": {}
        },
        {
          "output_type": "display_data",
          "data": {
            "text/plain": [
              "Number of feature columns   : 3"
            ],
            "text/html": [
              "<pre>Number of feature columns   : 3</pre>"
            ]
          },
          "metadata": {}
        },
        {
          "output_type": "display_data",
          "data": {
            "text/plain": [
              "Number of unpacked features : 139197"
            ],
            "text/html": [
              "<pre>Number of unpacked features : 139197</pre>"
            ]
          },
          "metadata": {}
        },
        {
          "output_type": "display_data",
          "data": {
            "text/plain": [
              "+-----------+--------------+-------------------+---------------------+-------------------+---------------------+"
            ],
            "text/html": [
              "<pre>+-----------+--------------+-------------------+---------------------+-------------------+---------------------+</pre>"
            ]
          },
          "metadata": {}
        },
        {
          "output_type": "display_data",
          "data": {
            "text/plain": [
              "| Iteration | Elapsed Time | Training Accuracy | Validation Accuracy | Training Log Loss | Validation Log Loss |"
            ],
            "text/html": [
              "<pre>| Iteration | Elapsed Time | Training Accuracy | Validation Accuracy | Training Log Loss | Validation Log Loss |</pre>"
            ]
          },
          "metadata": {}
        },
        {
          "output_type": "display_data",
          "data": {
            "text/plain": [
              "+-----------+--------------+-------------------+---------------------+-------------------+---------------------+"
            ],
            "text/html": [
              "<pre>+-----------+--------------+-------------------+---------------------+-------------------+---------------------+</pre>"
            ]
          },
          "metadata": {}
        },
        {
          "output_type": "display_data",
          "data": {
            "text/plain": [
              "| 1         | 5.212099     | 0.278172          | 0.225416            | 1.709263          | 1.769697            |"
            ],
            "text/html": [
              "<pre>| 1         | 5.212099     | 0.278172          | 0.225416            | 1.709263          | 1.769697            |</pre>"
            ]
          },
          "metadata": {}
        },
        {
          "output_type": "display_data",
          "data": {
            "text/plain": [
              "+-----------+--------------+-------------------+---------------------+-------------------+---------------------+"
            ],
            "text/html": [
              "<pre>+-----------+--------------+-------------------+---------------------+-------------------+---------------------+</pre>"
            ]
          },
          "metadata": {}
        },
        {
          "output_type": "display_data",
          "data": {
            "text/plain": [
              "Logistic regression:"
            ],
            "text/html": [
              "<pre>Logistic regression:</pre>"
            ]
          },
          "metadata": {}
        },
        {
          "output_type": "display_data",
          "data": {
            "text/plain": [
              "--------------------------------------------------------"
            ],
            "text/html": [
              "<pre>--------------------------------------------------------</pre>"
            ]
          },
          "metadata": {}
        },
        {
          "output_type": "display_data",
          "data": {
            "text/plain": [
              "Number of examples          : 37671"
            ],
            "text/html": [
              "<pre>Number of examples          : 37671</pre>"
            ]
          },
          "metadata": {}
        },
        {
          "output_type": "display_data",
          "data": {
            "text/plain": [
              "Number of classes           : 6"
            ],
            "text/html": [
              "<pre>Number of classes           : 6</pre>"
            ]
          },
          "metadata": {}
        },
        {
          "output_type": "display_data",
          "data": {
            "text/plain": [
              "Number of feature columns   : 3"
            ],
            "text/html": [
              "<pre>Number of feature columns   : 3</pre>"
            ]
          },
          "metadata": {}
        },
        {
          "output_type": "display_data",
          "data": {
            "text/plain": [
              "Number of unpacked features : 139197"
            ],
            "text/html": [
              "<pre>Number of unpacked features : 139197</pre>"
            ]
          },
          "metadata": {}
        },
        {
          "output_type": "display_data",
          "data": {
            "text/plain": [
              "Number of coefficients      : 695990"
            ],
            "text/html": [
              "<pre>Number of coefficients      : 695990</pre>"
            ]
          },
          "metadata": {}
        },
        {
          "output_type": "display_data",
          "data": {
            "text/plain": [
              "Starting L-BFGS"
            ],
            "text/html": [
              "<pre>Starting L-BFGS</pre>"
            ]
          },
          "metadata": {}
        },
        {
          "output_type": "display_data",
          "data": {
            "text/plain": [
              "--------------------------------------------------------"
            ],
            "text/html": [
              "<pre>--------------------------------------------------------</pre>"
            ]
          },
          "metadata": {}
        },
        {
          "output_type": "display_data",
          "data": {
            "text/plain": [
              "+-----------+----------+-----------+--------------+-------------------+---------------------+"
            ],
            "text/html": [
              "<pre>+-----------+----------+-----------+--------------+-------------------+---------------------+</pre>"
            ]
          },
          "metadata": {}
        },
        {
          "output_type": "display_data",
          "data": {
            "text/plain": [
              "| Iteration | Passes   | Step size | Elapsed Time | Training Accuracy | Validation Accuracy |"
            ],
            "text/html": [
              "<pre>| Iteration | Passes   | Step size | Elapsed Time | Training Accuracy | Validation Accuracy |</pre>"
            ]
          },
          "metadata": {}
        },
        {
          "output_type": "display_data",
          "data": {
            "text/plain": [
              "+-----------+----------+-----------+--------------+-------------------+---------------------+"
            ],
            "text/html": [
              "<pre>+-----------+----------+-----------+--------------+-------------------+---------------------+</pre>"
            ]
          },
          "metadata": {}
        },
        {
          "output_type": "display_data",
          "data": {
            "text/plain": [
              "| 0         | 2        | 1.000000  | 2.225139     | 0.537151          | 0.226425            |"
            ],
            "text/html": [
              "<pre>| 0         | 2        | 1.000000  | 2.225139     | 0.537151          | 0.226425            |</pre>"
            ]
          },
          "metadata": {}
        },
        {
          "output_type": "display_data",
          "data": {
            "text/plain": [
              "| 1         | 4        | 1.000000  | 27.577356    | 0.653951          | 0.256178            |"
            ],
            "text/html": [
              "<pre>| 1         | 4        | 1.000000  | 27.577356    | 0.653951          | 0.256178            |</pre>"
            ]
          },
          "metadata": {}
        },
        {
          "output_type": "display_data",
          "data": {
            "text/plain": [
              "| 2         | 6        | 0.787218  | 51.204352    | 0.742826          | 0.283913            |"
            ],
            "text/html": [
              "<pre>| 2         | 6        | 0.787218  | 51.204352    | 0.742826          | 0.283913            |</pre>"
            ]
          },
          "metadata": {}
        },
        {
          "output_type": "display_data",
          "data": {
            "text/plain": [
              "| 3         | 7        | 0.984023  | 73.452784    | 0.792068          | 0.284418            |"
            ],
            "text/html": [
              "<pre>| 3         | 7        | 0.984023  | 73.452784    | 0.792068          | 0.284418            |</pre>"
            ]
          },
          "metadata": {}
        },
        {
          "output_type": "display_data",
          "data": {
            "text/plain": [
              "| 4         | 8        | 1.000000  | 95.900235    | 0.799023          | 0.293495            |"
            ],
            "text/html": [
              "<pre>| 4         | 8        | 1.000000  | 95.900235    | 0.799023          | 0.293495            |</pre>"
            ]
          },
          "metadata": {}
        },
        {
          "output_type": "display_data",
          "data": {
            "text/plain": [
              "| 6         | 10       | 1.000000  | 142.183852   | 0.825144          | 0.283409            |"
            ],
            "text/html": [
              "<pre>| 6         | 10       | 1.000000  | 142.183852   | 0.825144          | 0.283409            |</pre>"
            ]
          },
          "metadata": {}
        },
        {
          "output_type": "display_data",
          "data": {
            "text/plain": [
              "| 7         | 11       | 1.000000  | 163.874192   | 0.838151          | 0.282905            |"
            ],
            "text/html": [
              "<pre>| 7         | 11       | 1.000000  | 163.874192   | 0.838151          | 0.282905            |</pre>"
            ]
          },
          "metadata": {}
        },
        {
          "output_type": "display_data",
          "data": {
            "text/plain": [
              "| 8         | 12       | 1.000000  | 186.107849   | 0.843168          | 0.281392            |"
            ],
            "text/html": [
              "<pre>| 8         | 12       | 1.000000  | 186.107849   | 0.843168          | 0.281392            |</pre>"
            ]
          },
          "metadata": {}
        },
        {
          "output_type": "display_data",
          "data": {
            "text/plain": [
              "| 9         | 13       | 1.000000  | 208.398102   | 0.850707          | 0.278870            |"
            ],
            "text/html": [
              "<pre>| 9         | 13       | 1.000000  | 208.398102   | 0.850707          | 0.278870            |</pre>"
            ]
          },
          "metadata": {}
        },
        {
          "output_type": "display_data",
          "data": {
            "text/plain": [
              "+-----------+----------+-----------+--------------+-------------------+---------------------+"
            ],
            "text/html": [
              "<pre>+-----------+----------+-----------+--------------+-------------------+---------------------+</pre>"
            ]
          },
          "metadata": {}
        },
        {
          "output_type": "stream",
          "name": "stdout",
          "text": [
            "PROGRESS: Model selection based on validation accuracy:\n",
            "PROGRESS: ---------------------------------------------\n",
            "PROGRESS: BoostedTreesClassifier          : 0.25769036812909735\n",
            "PROGRESS: RandomForestClassifier          : 0.24306606152294502\n",
            "PROGRESS: DecisionTreeClassifier          : 0.2254160363086233\n",
            "PROGRESS: LogisticClassifier              : 0.2788703983862834\n",
            "PROGRESS: ---------------------------------------------\n",
            "PROGRESS: Selecting LogisticClassifier based on validation set performance.\n"
          ]
        }
      ]
    },
    {
      "cell_type": "code",
      "source": [
        "e = cls.evaluate(test)\n",
        "e"
      ],
      "metadata": {
        "id": "IkKZJ7ObuKdh",
        "colab": {
          "base_uri": "https://localhost:8080/"
        },
        "outputId": "9a7561e6-ea60-4122-f80a-629467047164"
      },
      "execution_count": null,
      "outputs": [
        {
          "output_type": "execute_result",
          "data": {
            "text/plain": [
              "{'accuracy': 0.2898021308980213,\n",
              " 'auc': 0.6267942258573665,\n",
              " 'confusion_matrix': Columns:\n",
              " \ttarget_label\tstr\n",
              " \tpredicted_label\tstr\n",
              " \tcount\tint\n",
              " \n",
              " Rows: 36\n",
              " \n",
              " Data:\n",
              " +--------------+-----------------+-------+\n",
              " | target_label | predicted_label | count |\n",
              " +--------------+-----------------+-------+\n",
              " |    phoebe    |       ross      |  179  |\n",
              " |     ross     |      phoebe     |  174  |\n",
              " |   chandler   |      rachel     |  250  |\n",
              " |   chandler   |     chandler    |  436  |\n",
              " |   chandler   |       joey      |  238  |\n",
              " |    phoebe    |       joey      |  193  |\n",
              " |     ross     |       joey      |  249  |\n",
              " |    rachel    |       ross      |  248  |\n",
              " |    monica    |      phoebe     |  189  |\n",
              " |     joey     |     chandler    |  272  |\n",
              " +--------------+-----------------+-------+\n",
              " [36 rows x 3 columns]\n",
              " Note: Only the head of the SFrame is printed.\n",
              " You can use print_rows(num_rows=m, num_columns=n) to print more rows and columns.,\n",
              " 'f1_score': 0.28877430574355817,\n",
              " 'log_loss': 3.2690766452523494,\n",
              " 'precision': 0.28988263822663457,\n",
              " 'recall': 0.288292374402126,\n",
              " 'roc_curve': Columns:\n",
              " \tthreshold\tfloat\n",
              " \tfpr\tfloat\n",
              " \ttpr\tfloat\n",
              " \tp\tint\n",
              " \tn\tint\n",
              " \tclass\tint\n",
              " \n",
              " Rows: 6006\n",
              " \n",
              " Data:\n",
              " +-----------+--------------------+--------------------+------+------+-------+\n",
              " | threshold |        fpr         |        tpr         |  p   |  n   | class |\n",
              " +-----------+--------------------+--------------------+------+------+-------+\n",
              " |    0.0    |        1.0         |        1.0         | 1609 | 8246 |   0   |\n",
              " |   0.001   | 0.8794567062818336 | 0.9316345556246115 | 1609 | 8246 |   0   |\n",
              " |   0.002   | 0.8536260004850836 | 0.9148539465506526 | 1609 | 8246 |   0   |\n",
              " |   0.003   | 0.8388309483385884 | 0.8999378495960224 | 1609 | 8246 |   0   |\n",
              " |   0.004   | 0.8236720834343925 | 0.889372280919826  | 1609 | 8246 |   0   |\n",
              " |   0.005   | 0.8144554935726412 | 0.8812927284027346 | 1609 | 8246 |   0   |\n",
              " |   0.006   | 0.8037836526800873 | 0.875077688004972  | 1609 | 8246 |   0   |\n",
              " |   0.007   | 0.793233082706767  | 0.8682411435674332 | 1609 | 8246 |   0   |\n",
              " |   0.008   | 0.7847441183604171 | 0.8638906152889994 | 1609 | 8246 |   0   |\n",
              " |   0.009   | 0.776376424933301  | 0.8607830950901181 | 1609 | 8246 |   0   |\n",
              " +-----------+--------------------+--------------------+------+------+-------+\n",
              " [6006 rows x 6 columns]\n",
              " Note: Only the head of the SFrame is printed.\n",
              " You can use print_rows(num_rows=m, num_columns=n) to print more rows and columns.}"
            ]
          },
          "metadata": {},
          "execution_count": 21
        }
      ]
    },
    {
      "cell_type": "code",
      "source": [
        "e['confusion_matrix'].sort('count', ascending=False).print_rows(100)"
      ],
      "metadata": {
        "id": "jFce7bp8uNnC",
        "colab": {
          "base_uri": "https://localhost:8080/"
        },
        "outputId": "dc24604a-5578-4050-d027-cc2f3ada4f74"
      },
      "execution_count": null,
      "outputs": [
        {
          "output_type": "stream",
          "name": "stdout",
          "text": [
            "+--------------+-----------------+-------+\n",
            "| target_label | predicted_label | count |\n",
            "+--------------+-----------------+-------+\n",
            "|    rachel    |      rachel     |  571  |\n",
            "|     ross     |       ross      |  564  |\n",
            "|     joey     |       joey      |  498  |\n",
            "|   chandler   |     chandler    |  436  |\n",
            "|    monica    |      monica     |  406  |\n",
            "|    phoebe    |      phoebe     |  381  |\n",
            "|    monica    |     chandler    |  306  |\n",
            "|     ross     |      rachel     |  300  |\n",
            "|     ross     |     chandler    |  299  |\n",
            "|    rachel    |      monica     |  297  |\n",
            "|    monica    |      rachel     |  288  |\n",
            "|     joey     |       ross      |  273  |\n",
            "|     joey     |     chandler    |  272  |\n",
            "|    rachel    |     chandler    |  257  |\n",
            "|   chandler   |      monica     |  250  |\n",
            "|   chandler   |      rachel     |  250  |\n",
            "|    phoebe    |      rachel     |  250  |\n",
            "|     ross     |       joey      |  249  |\n",
            "|    rachel    |       ross      |  248  |\n",
            "|   chandler   |       ross      |  243  |\n",
            "|     joey     |      rachel     |  240  |\n",
            "|   chandler   |       joey      |  238  |\n",
            "|     ross     |      monica     |  229  |\n",
            "|    phoebe    |     chandler    |  224  |\n",
            "|    rachel    |       joey      |  224  |\n",
            "|    monica    |       ross      |  201  |\n",
            "|    monica    |       joey      |  200  |\n",
            "|    rachel    |      phoebe     |  198  |\n",
            "|    phoebe    |      monica     |  193  |\n",
            "|    phoebe    |       joey      |  193  |\n",
            "|   chandler   |      phoebe     |  192  |\n",
            "|    monica    |      phoebe     |  189  |\n",
            "|    phoebe    |       ross      |  179  |\n",
            "|     joey     |      monica     |  174  |\n",
            "|     ross     |      phoebe     |  174  |\n",
            "|     joey     |      phoebe     |  169  |\n",
            "+--------------+-----------------+-------+\n",
            "[36 rows x 3 columns]\n",
            "\n"
          ]
        }
      ]
    },
    {
      "cell_type": "markdown",
      "source": [
        "Using sentiment analysis identify who are the most and less friendly friends:"
      ],
      "metadata": {
        "id": "DncP2_5uvAUi"
      }
    },
    {
      "cell_type": "code",
      "source": [
        "mg = sf.groupby('author', tc.aggregate.CONCAT('quote'))\n",
        "mg['List of quote'] =mg['List of quote'].apply(lambda l: \" \".join(map(str, l)))\n",
        "mg"
      ],
      "metadata": {
        "id": "PqZ6LUcCqkug",
        "colab": {
          "base_uri": "https://localhost:8080/",
          "height": 276
        },
        "outputId": "4701b43a-7c01-4a6c-cd3f-15dbfdd27db3"
      },
      "execution_count": null,
      "outputs": [
        {
          "output_type": "execute_result",
          "data": {
            "text/plain": [
              "Columns:\n",
              "\tauthor\tstr\n",
              "\tList of quote\tstr\n",
              "\n",
              "Rows: 6\n",
              "\n",
              "Data:\n",
              "+----------+-------------------------------+\n",
              "|  author  |         List of quote         |\n",
              "+----------+-------------------------------+\n",
              "|   ross   | Yeah. Hey! (enters) Wow, c... |\n",
              "|  monica  | Why don't you just be stra... |\n",
              "|   joey   | (jumps out of the box) I G... |\n",
              "| chandler | OK, I'm officially unpacke... |\n",
              "|  phoebe  | Wait, does he eat chalk? J... |\n",
              "|  rachel  | Oh God Monica hi! Thank Go... |\n",
              "+----------+-------------------------------+\n",
              "[6 rows x 2 columns]"
            ],
            "text/html": [
              "<div style=\"max-height:1000px;max-width:1500px;overflow:auto;\"><table frame=\"box\" rules=\"cols\">\n",
              "    <tr>\n",
              "        <th style=\"padding-left: 1em; padding-right: 1em; text-align: center\">author</th>\n",
              "        <th style=\"padding-left: 1em; padding-right: 1em; text-align: center\">List of quote</th>\n",
              "    </tr>\n",
              "    <tr>\n",
              "        <td style=\"padding-left: 1em; padding-right: 1em; text-align: center; vertical-align: top\">ross</td>\n",
              "        <td style=\"padding-left: 1em; padding-right: 1em; text-align: center; vertical-align: top\">Yeah. Hey! (enters) Wow,<br>couples who live toge ...</td>\n",
              "    </tr>\n",
              "    <tr>\n",
              "        <td style=\"padding-left: 1em; padding-right: 1em; text-align: center; vertical-align: top\">monica</td>\n",
              "        <td style=\"padding-left: 1em; padding-right: 1em; text-align: center; vertical-align: top\">Why don&#x27;t you just be<br>straight with her? Tell ...</td>\n",
              "    </tr>\n",
              "    <tr>\n",
              "        <td style=\"padding-left: 1em; padding-right: 1em; text-align: center; vertical-align: top\">joey</td>\n",
              "        <td style=\"padding-left: 1em; padding-right: 1em; text-align: center; vertical-align: top\">(jumps out of the box) I<br>Gotcha!! Boy, it was so ...</td>\n",
              "    </tr>\n",
              "    <tr>\n",
              "        <td style=\"padding-left: 1em; padding-right: 1em; text-align: center; vertical-align: top\">chandler</td>\n",
              "        <td style=\"padding-left: 1em; padding-right: 1em; text-align: center; vertical-align: top\">OK, I&#x27;m officially<br>unpacked. Thanks for ...</td>\n",
              "    </tr>\n",
              "    <tr>\n",
              "        <td style=\"padding-left: 1em; padding-right: 1em; text-align: center; vertical-align: top\">phoebe</td>\n",
              "        <td style=\"padding-left: 1em; padding-right: 1em; text-align: center; vertical-align: top\">Wait, does he eat chalk?<br>Just, &#x27;cause, I don&#x27;t ...</td>\n",
              "    </tr>\n",
              "    <tr>\n",
              "        <td style=\"padding-left: 1em; padding-right: 1em; text-align: center; vertical-align: top\">rachel</td>\n",
              "        <td style=\"padding-left: 1em; padding-right: 1em; text-align: center; vertical-align: top\">Oh God Monica hi! Thank<br>God! I just went to your ...</td>\n",
              "    </tr>\n",
              "</table>\n",
              "[6 rows x 2 columns]<br/>\n",
              "</div>"
            ]
          },
          "metadata": {},
          "execution_count": 23
        }
      ]
    },
    {
      "cell_type": "code",
      "source": [
        "friends_list = []\n",
        "for quote in mg['List of quote']:\n",
        "    q = nlp(quote)\n",
        "    friends_list.append([entity.text.lower().strip() for entity in q.ents if entity.label_ == \"PERSON\"])\n",
        "\n",
        "mg['friends_list'] = tc.SArray(friends_list)\n",
        "mg['num_friends'] = mg['friends_list'].apply(lambda lst: len(set(lst)))\n",
        "mg"
      ],
      "metadata": {
        "id": "Tdxzya-f3Nxm",
        "colab": {
          "base_uri": "https://localhost:8080/",
          "height": 276
        },
        "outputId": "daf4f481-7ed7-40d4-9aa1-3865d9cc18eb"
      },
      "execution_count": null,
      "outputs": [
        {
          "output_type": "execute_result",
          "data": {
            "text/plain": [
              "Columns:\n",
              "\tauthor\tstr\n",
              "\tList of quote\tstr\n",
              "\tfriends_list\tlist\n",
              "\tnum_friends\tint\n",
              "\n",
              "Rows: 6\n",
              "\n",
              "Data:\n",
              "+----------+-------------------------------+-------------------------------+-------------+\n",
              "|  author  |         List of quote         |          friends_list         | num_friends |\n",
              "+----------+-------------------------------+-------------------------------+-------------+\n",
              "|   ross   | Yeah. Hey! (enters) Wow, c... | [monica, kay, monica, joe... |     637     |\n",
              "|  monica  | Why don't you just be stra... | [rachel, ross, ross, naked... |     461     |\n",
              "|   joey   | (jumps out of the box) I G... | [chandler, chandler, monic... |     604     |\n",
              "| chandler | OK, I'm officially unpacke... | [joey, joe, joey, ross, ro... |     616     |\n",
              "|  phoebe  | Wait, does he eat chalk? J... | [ross, rachel, monica, cha... |     561     |\n",
              "|  rachel  | Oh God Monica hi! Thank Go... | [barry, barry, potato head... |     588     |\n",
              "+----------+-------------------------------+-------------------------------+-------------+\n",
              "[6 rows x 4 columns]"
            ],
            "text/html": [
              "<div style=\"max-height:1000px;max-width:1500px;overflow:auto;\"><table frame=\"box\" rules=\"cols\">\n",
              "    <tr>\n",
              "        <th style=\"padding-left: 1em; padding-right: 1em; text-align: center\">author</th>\n",
              "        <th style=\"padding-left: 1em; padding-right: 1em; text-align: center\">List of quote</th>\n",
              "        <th style=\"padding-left: 1em; padding-right: 1em; text-align: center\">friends_list</th>\n",
              "        <th style=\"padding-left: 1em; padding-right: 1em; text-align: center\">num_friends</th>\n",
              "    </tr>\n",
              "    <tr>\n",
              "        <td style=\"padding-left: 1em; padding-right: 1em; text-align: center; vertical-align: top\">ross</td>\n",
              "        <td style=\"padding-left: 1em; padding-right: 1em; text-align: center; vertical-align: top\">Yeah. Hey! (enters) Wow,<br>couples who live toge ...</td>\n",
              "        <td style=\"padding-left: 1em; padding-right: 1em; text-align: center; vertical-align: top\">[monica, kay, monica,<br>joey, joey, chandler, ...</td>\n",
              "        <td style=\"padding-left: 1em; padding-right: 1em; text-align: center; vertical-align: top\">637</td>\n",
              "    </tr>\n",
              "    <tr>\n",
              "        <td style=\"padding-left: 1em; padding-right: 1em; text-align: center; vertical-align: top\">monica</td>\n",
              "        <td style=\"padding-left: 1em; padding-right: 1em; text-align: center; vertical-align: top\">Why don&#x27;t you just be<br>straight with her? Tell ...</td>\n",
              "        <td style=\"padding-left: 1em; padding-right: 1em; text-align: center; vertical-align: top\">[rachel, ross, ross,<br>naked, chandler, ...</td>\n",
              "        <td style=\"padding-left: 1em; padding-right: 1em; text-align: center; vertical-align: top\">461</td>\n",
              "    </tr>\n",
              "    <tr>\n",
              "        <td style=\"padding-left: 1em; padding-right: 1em; text-align: center; vertical-align: top\">joey</td>\n",
              "        <td style=\"padding-left: 1em; padding-right: 1em; text-align: center; vertical-align: top\">(jumps out of the box) I<br>Gotcha!! Boy, it was so ...</td>\n",
              "        <td style=\"padding-left: 1em; padding-right: 1em; text-align: center; vertical-align: top\">[chandler, chandler,<br>monica, pizza, joey, ...</td>\n",
              "        <td style=\"padding-left: 1em; padding-right: 1em; text-align: center; vertical-align: top\">604</td>\n",
              "    </tr>\n",
              "    <tr>\n",
              "        <td style=\"padding-left: 1em; padding-right: 1em; text-align: center; vertical-align: top\">chandler</td>\n",
              "        <td style=\"padding-left: 1em; padding-right: 1em; text-align: center; vertical-align: top\">OK, I&#x27;m officially<br>unpacked. Thanks for ...</td>\n",
              "        <td style=\"padding-left: 1em; padding-right: 1em; text-align: center; vertical-align: top\">[joey, joe, joey, ross,<br>ross, ross, monica, ...</td>\n",
              "        <td style=\"padding-left: 1em; padding-right: 1em; text-align: center; vertical-align: top\">616</td>\n",
              "    </tr>\n",
              "    <tr>\n",
              "        <td style=\"padding-left: 1em; padding-right: 1em; text-align: center; vertical-align: top\">phoebe</td>\n",
              "        <td style=\"padding-left: 1em; padding-right: 1em; text-align: center; vertical-align: top\">Wait, does he eat chalk?<br>Just, &#x27;cause, I don&#x27;t ...</td>\n",
              "        <td style=\"padding-left: 1em; padding-right: 1em; text-align: center; vertical-align: top\">[ross, rachel, monica,<br>chandler, joey, chand ...</td>\n",
              "        <td style=\"padding-left: 1em; padding-right: 1em; text-align: center; vertical-align: top\">561</td>\n",
              "    </tr>\n",
              "    <tr>\n",
              "        <td style=\"padding-left: 1em; padding-right: 1em; text-align: center; vertical-align: top\">rachel</td>\n",
              "        <td style=\"padding-left: 1em; padding-right: 1em; text-align: center; vertical-align: top\">Oh God Monica hi! Thank<br>God! I just went to your ...</td>\n",
              "        <td style=\"padding-left: 1em; padding-right: 1em; text-align: center; vertical-align: top\">[barry, barry, potato<br>head, monica, monica, ...</td>\n",
              "        <td style=\"padding-left: 1em; padding-right: 1em; text-align: center; vertical-align: top\">588</td>\n",
              "    </tr>\n",
              "</table>\n",
              "[6 rows x 4 columns]<br/>\n",
              "</div>"
            ]
          },
          "metadata": {},
          "execution_count": 24
        }
      ]
    },
    {
      "cell_type": "code",
      "source": [
        "most_friendly_friend = mg.sort(\"num_friends\", ascending=False)\n",
        "most_friendly_friend"
      ],
      "metadata": {
        "id": "HN09D0on5jM9",
        "colab": {
          "base_uri": "https://localhost:8080/",
          "height": 276
        },
        "outputId": "7c4a8d21-cd70-42ab-c00a-225a9247b7dd"
      },
      "execution_count": null,
      "outputs": [
        {
          "output_type": "execute_result",
          "data": {
            "text/plain": [
              "Columns:\n",
              "\tauthor\tstr\n",
              "\tList of quote\tstr\n",
              "\tfriends_list\tlist\n",
              "\tnum_friends\tint\n",
              "\n",
              "Rows: 6\n",
              "\n",
              "Data:\n",
              "+----------+-------------------------------+-------------------------------+-------------+\n",
              "|  author  |         List of quote         |          friends_list         | num_friends |\n",
              "+----------+-------------------------------+-------------------------------+-------------+\n",
              "|   ross   | Yeah. Hey! (enters) Wow, c... | [monica, kay, monica, joe... |     637     |\n",
              "| chandler | OK, I'm officially unpacke... | [joey, joe, joey, ross, ro... |     616     |\n",
              "|   joey   | (jumps out of the box) I G... | [chandler, chandler, monic... |     604     |\n",
              "|  rachel  | Oh God Monica hi! Thank Go... | [barry, barry, potato head... |     588     |\n",
              "|  phoebe  | Wait, does he eat chalk? J... | [ross, rachel, monica, cha... |     561     |\n",
              "|  monica  | Why don't you just be stra... | [rachel, ross, ross, naked... |     461     |\n",
              "+----------+-------------------------------+-------------------------------+-------------+\n",
              "[6 rows x 4 columns]"
            ],
            "text/html": [
              "<div style=\"max-height:1000px;max-width:1500px;overflow:auto;\"><table frame=\"box\" rules=\"cols\">\n",
              "    <tr>\n",
              "        <th style=\"padding-left: 1em; padding-right: 1em; text-align: center\">author</th>\n",
              "        <th style=\"padding-left: 1em; padding-right: 1em; text-align: center\">List of quote</th>\n",
              "        <th style=\"padding-left: 1em; padding-right: 1em; text-align: center\">friends_list</th>\n",
              "        <th style=\"padding-left: 1em; padding-right: 1em; text-align: center\">num_friends</th>\n",
              "    </tr>\n",
              "    <tr>\n",
              "        <td style=\"padding-left: 1em; padding-right: 1em; text-align: center; vertical-align: top\">ross</td>\n",
              "        <td style=\"padding-left: 1em; padding-right: 1em; text-align: center; vertical-align: top\">Yeah. Hey! (enters) Wow,<br>couples who live toge ...</td>\n",
              "        <td style=\"padding-left: 1em; padding-right: 1em; text-align: center; vertical-align: top\">[monica, kay, monica,<br>joey, joey, chandler, ...</td>\n",
              "        <td style=\"padding-left: 1em; padding-right: 1em; text-align: center; vertical-align: top\">637</td>\n",
              "    </tr>\n",
              "    <tr>\n",
              "        <td style=\"padding-left: 1em; padding-right: 1em; text-align: center; vertical-align: top\">chandler</td>\n",
              "        <td style=\"padding-left: 1em; padding-right: 1em; text-align: center; vertical-align: top\">OK, I&#x27;m officially<br>unpacked. Thanks for ...</td>\n",
              "        <td style=\"padding-left: 1em; padding-right: 1em; text-align: center; vertical-align: top\">[joey, joe, joey, ross,<br>ross, ross, monica, ...</td>\n",
              "        <td style=\"padding-left: 1em; padding-right: 1em; text-align: center; vertical-align: top\">616</td>\n",
              "    </tr>\n",
              "    <tr>\n",
              "        <td style=\"padding-left: 1em; padding-right: 1em; text-align: center; vertical-align: top\">joey</td>\n",
              "        <td style=\"padding-left: 1em; padding-right: 1em; text-align: center; vertical-align: top\">(jumps out of the box) I<br>Gotcha!! Boy, it was so ...</td>\n",
              "        <td style=\"padding-left: 1em; padding-right: 1em; text-align: center; vertical-align: top\">[chandler, chandler,<br>monica, pizza, joey, ...</td>\n",
              "        <td style=\"padding-left: 1em; padding-right: 1em; text-align: center; vertical-align: top\">604</td>\n",
              "    </tr>\n",
              "    <tr>\n",
              "        <td style=\"padding-left: 1em; padding-right: 1em; text-align: center; vertical-align: top\">rachel</td>\n",
              "        <td style=\"padding-left: 1em; padding-right: 1em; text-align: center; vertical-align: top\">Oh God Monica hi! Thank<br>God! I just went to your ...</td>\n",
              "        <td style=\"padding-left: 1em; padding-right: 1em; text-align: center; vertical-align: top\">[barry, barry, potato<br>head, monica, monica, ...</td>\n",
              "        <td style=\"padding-left: 1em; padding-right: 1em; text-align: center; vertical-align: top\">588</td>\n",
              "    </tr>\n",
              "    <tr>\n",
              "        <td style=\"padding-left: 1em; padding-right: 1em; text-align: center; vertical-align: top\">phoebe</td>\n",
              "        <td style=\"padding-left: 1em; padding-right: 1em; text-align: center; vertical-align: top\">Wait, does he eat chalk?<br>Just, &#x27;cause, I don&#x27;t ...</td>\n",
              "        <td style=\"padding-left: 1em; padding-right: 1em; text-align: center; vertical-align: top\">[ross, rachel, monica,<br>chandler, joey, chand ...</td>\n",
              "        <td style=\"padding-left: 1em; padding-right: 1em; text-align: center; vertical-align: top\">561</td>\n",
              "    </tr>\n",
              "    <tr>\n",
              "        <td style=\"padding-left: 1em; padding-right: 1em; text-align: center; vertical-align: top\">monica</td>\n",
              "        <td style=\"padding-left: 1em; padding-right: 1em; text-align: center; vertical-align: top\">Why don&#x27;t you just be<br>straight with her? Tell ...</td>\n",
              "        <td style=\"padding-left: 1em; padding-right: 1em; text-align: center; vertical-align: top\">[rachel, ross, ross,<br>naked, chandler, ...</td>\n",
              "        <td style=\"padding-left: 1em; padding-right: 1em; text-align: center; vertical-align: top\">461</td>\n",
              "    </tr>\n",
              "</table>\n",
              "[6 rows x 4 columns]<br/>\n",
              "</div>"
            ]
          },
          "metadata": {},
          "execution_count": 25
        }
      ]
    },
    {
      "cell_type": "markdown",
      "source": [
        " Construct a classifier that can be given several text lines (quotes) from a specific episode that will predict the episode's season number:"
      ],
      "metadata": {
        "id": "ay0YlC45vOmf"
      }
    },
    {
      "cell_type": "code",
      "source": [
        "sf_grouped_episode_season = sf.groupby(['episode_number', 'season'], tc.aggregate.CONCAT('quote'))\n",
        "sf_grouped_episode_season['full_quotes'] = sf_grouped_episode_season['List of quote'].apply(lambda l: \" \".join(l))\n",
        "sf_grouped_episode_season"
      ],
      "metadata": {
        "id": "XYykPcrh9g2Q",
        "colab": {
          "base_uri": "https://localhost:8080/",
          "height": 458
        },
        "outputId": "8b7df0df-d0e4-4721-a59a-1098b6f8a9b0"
      },
      "execution_count": null,
      "outputs": [
        {
          "output_type": "execute_result",
          "data": {
            "text/plain": [
              "Columns:\n",
              "\tepisode_number\tfloat\n",
              "\tseason\tfloat\n",
              "\tList of quote\tlist\n",
              "\tfull_quotes\tstr\n",
              "\n",
              "Rows: 225\n",
              "\n",
              "Data:\n",
              "+----------------+--------+-------------------------------+\n",
              "| episode_number | season |         List of quote         |\n",
              "+----------------+--------+-------------------------------+\n",
              "|      18.0      |  9.0   | [Monica, hey, can I borrow... |\n",
              "|      3.0       |  3.0   | [Look, he gave me his nigh... |\n",
              "|      19.0      |  1.0   | [Which one?, Those cute li... |\n",
              "|      12.0      |  6.0   | [Hey, youre not going to ... |\n",
              "|      10.0      |  10.0  | [(really excited) Mmh... t... |\n",
              "|      12.0      |  10.0  | [Oh, hey Joey., Uh, hey., ... |\n",
              "|      1.0       |  3.0   | [I'm tellin' ya that girl ... |\n",
              "|      10.0      |  6.0   | [Really?, What do you mean... |\n",
              "|      15.0      |  1.0   | [(to Joey) Coffee. (Hands ... |\n",
              "|      11.0      |  2.0   | [Ok. Here's his diaper bag... |\n",
              "+----------------+--------+-------------------------------+\n",
              "+-------------------------------+\n",
              "|          full_quotes          |\n",
              "+-------------------------------+\n",
              "| Monica, hey, can I borrow ... |\n",
              "| Look, he gave me his night... |\n",
              "| Which one? Those cute litt... |\n",
              "| Hey, youre not going to b... |\n",
              "| (really excited) Mmh... th... |\n",
              "| Oh, hey Joey. Uh, hey. Lis... |\n",
              "| I'm tellin' ya that girl t... |\n",
              "| Really? What do you mean? ... |\n",
              "| (to Joey) Coffee. (Hands i... |\n",
              "| Ok. Here's his diaper bag,... |\n",
              "+-------------------------------+\n",
              "[225 rows x 4 columns]\n",
              "Note: Only the head of the SFrame is printed.\n",
              "You can use print_rows(num_rows=m, num_columns=n) to print more rows and columns."
            ],
            "text/html": [
              "<div style=\"max-height:1000px;max-width:1500px;overflow:auto;\"><table frame=\"box\" rules=\"cols\">\n",
              "    <tr>\n",
              "        <th style=\"padding-left: 1em; padding-right: 1em; text-align: center\">episode_number</th>\n",
              "        <th style=\"padding-left: 1em; padding-right: 1em; text-align: center\">season</th>\n",
              "        <th style=\"padding-left: 1em; padding-right: 1em; text-align: center\">List of quote</th>\n",
              "        <th style=\"padding-left: 1em; padding-right: 1em; text-align: center\">full_quotes</th>\n",
              "    </tr>\n",
              "    <tr>\n",
              "        <td style=\"padding-left: 1em; padding-right: 1em; text-align: center; vertical-align: top\">18.0</td>\n",
              "        <td style=\"padding-left: 1em; padding-right: 1em; text-align: center; vertical-align: top\">9.0</td>\n",
              "        <td style=\"padding-left: 1em; padding-right: 1em; text-align: center; vertical-align: top\">[Monica, hey, can I<br>borrow the Porsche?,  ...</td>\n",
              "        <td style=\"padding-left: 1em; padding-right: 1em; text-align: center; vertical-align: top\">Monica, hey, can I borrow<br>the Porsche? Ok. Alri ...</td>\n",
              "    </tr>\n",
              "    <tr>\n",
              "        <td style=\"padding-left: 1em; padding-right: 1em; text-align: center; vertical-align: top\">3.0</td>\n",
              "        <td style=\"padding-left: 1em; padding-right: 1em; text-align: center; vertical-align: top\">3.0</td>\n",
              "        <td style=\"padding-left: 1em; padding-right: 1em; text-align: center; vertical-align: top\">[Look, he gave me his<br>night vision goggles and ...</td>\n",
              "        <td style=\"padding-left: 1em; padding-right: 1em; text-align: center; vertical-align: top\">Look, he gave me his<br>night vision goggles and ...</td>\n",
              "    </tr>\n",
              "    <tr>\n",
              "        <td style=\"padding-left: 1em; padding-right: 1em; text-align: center; vertical-align: top\">19.0</td>\n",
              "        <td style=\"padding-left: 1em; padding-right: 1em; text-align: center; vertical-align: top\">1.0</td>\n",
              "        <td style=\"padding-left: 1em; padding-right: 1em; text-align: center; vertical-align: top\">[Which one?, Those cute<br>little black ones I wear ...</td>\n",
              "        <td style=\"padding-left: 1em; padding-right: 1em; text-align: center; vertical-align: top\">Which one? Those cute<br>little black ones I wear ...</td>\n",
              "    </tr>\n",
              "    <tr>\n",
              "        <td style=\"padding-left: 1em; padding-right: 1em; text-align: center; vertical-align: top\">12.0</td>\n",
              "        <td style=\"padding-left: 1em; padding-right: 1em; text-align: center; vertical-align: top\">6.0</td>\n",
              "        <td style=\"padding-left: 1em; padding-right: 1em; text-align: center; vertical-align: top\">[Hey, youre not going to<br>believe this. I made  ...</td>\n",
              "        <td style=\"padding-left: 1em; padding-right: 1em; text-align: center; vertical-align: top\">Hey, youre not going to<br>believe this. I made  ...</td>\n",
              "    </tr>\n",
              "    <tr>\n",
              "        <td style=\"padding-left: 1em; padding-right: 1em; text-align: center; vertical-align: top\">10.0</td>\n",
              "        <td style=\"padding-left: 1em; padding-right: 1em; text-align: center; vertical-align: top\">10.0</td>\n",
              "        <td style=\"padding-left: 1em; padding-right: 1em; text-align: center; vertical-align: top\">[(really excited) Mmh...<br>this cake is amazing! ...</td>\n",
              "        <td style=\"padding-left: 1em; padding-right: 1em; text-align: center; vertical-align: top\">(really excited) Mmh...<br>this cake is amazing! My ...</td>\n",
              "    </tr>\n",
              "    <tr>\n",
              "        <td style=\"padding-left: 1em; padding-right: 1em; text-align: center; vertical-align: top\">12.0</td>\n",
              "        <td style=\"padding-left: 1em; padding-right: 1em; text-align: center; vertical-align: top\">10.0</td>\n",
              "        <td style=\"padding-left: 1em; padding-right: 1em; text-align: center; vertical-align: top\">[Oh, hey Joey., Uh, hey.,<br>Listen, I need to ask ...</td>\n",
              "        <td style=\"padding-left: 1em; padding-right: 1em; text-align: center; vertical-align: top\">Oh, hey Joey. Uh, hey.<br>Listen, I need to ask ...</td>\n",
              "    </tr>\n",
              "    <tr>\n",
              "        <td style=\"padding-left: 1em; padding-right: 1em; text-align: center; vertical-align: top\">1.0</td>\n",
              "        <td style=\"padding-left: 1em; padding-right: 1em; text-align: center; vertical-align: top\">3.0</td>\n",
              "        <td style=\"padding-left: 1em; padding-right: 1em; text-align: center; vertical-align: top\">[I&#x27;m tellin&#x27; ya that girl<br>totally winked at me., ...</td>\n",
              "        <td style=\"padding-left: 1em; padding-right: 1em; text-align: center; vertical-align: top\">I&#x27;m tellin&#x27; ya that girl<br>totally winked at me. ...</td>\n",
              "    </tr>\n",
              "    <tr>\n",
              "        <td style=\"padding-left: 1em; padding-right: 1em; text-align: center; vertical-align: top\">10.0</td>\n",
              "        <td style=\"padding-left: 1em; padding-right: 1em; text-align: center; vertical-align: top\">6.0</td>\n",
              "        <td style=\"padding-left: 1em; padding-right: 1em; text-align: center; vertical-align: top\">[Really?, What do you<br>mean?, Uh-huh., No-no ...</td>\n",
              "        <td style=\"padding-left: 1em; padding-right: 1em; text-align: center; vertical-align: top\">Really? What do you mean?<br>Uh-huh. No-no-no-no-n ...</td>\n",
              "    </tr>\n",
              "    <tr>\n",
              "        <td style=\"padding-left: 1em; padding-right: 1em; text-align: center; vertical-align: top\">15.0</td>\n",
              "        <td style=\"padding-left: 1em; padding-right: 1em; text-align: center; vertical-align: top\">1.0</td>\n",
              "        <td style=\"padding-left: 1em; padding-right: 1em; text-align: center; vertical-align: top\">[(to Joey) Coffee. (Hands<br>it to him.), Thank you., ...</td>\n",
              "        <td style=\"padding-left: 1em; padding-right: 1em; text-align: center; vertical-align: top\">(to Joey) Coffee. (Hands<br>it to him.) Thank you. ...</td>\n",
              "    </tr>\n",
              "    <tr>\n",
              "        <td style=\"padding-left: 1em; padding-right: 1em; text-align: center; vertical-align: top\">11.0</td>\n",
              "        <td style=\"padding-left: 1em; padding-right: 1em; text-align: center; vertical-align: top\">2.0</td>\n",
              "        <td style=\"padding-left: 1em; padding-right: 1em; text-align: center; vertical-align: top\">[Ok. Here&#x27;s his diaper<br>bag, and his uh, Mr. ...</td>\n",
              "        <td style=\"padding-left: 1em; padding-right: 1em; text-align: center; vertical-align: top\">Ok. Here&#x27;s his diaper<br>bag, and his uh, Mr. ...</td>\n",
              "    </tr>\n",
              "</table>\n",
              "[225 rows x 4 columns]<br/>Note: Only the head of the SFrame is printed.<br/>You can use print_rows(num_rows=m, num_columns=n) to print more rows and columns.\n",
              "</div>"
            ]
          },
          "metadata": {},
          "execution_count": 26
        }
      ]
    },
    {
      "cell_type": "code",
      "source": [
        "from tqdm import tqdm\n",
        "vector_list = []\n",
        "for plot in tqdm(sf_grouped_episode_season['full_quotes']):\n",
        "    vector_list.append(nlp(plot).vector)\n",
        "sf_grouped_episode_season['vector'] = vector_list"
      ],
      "metadata": {
        "id": "hVPsQxuzA5A2",
        "colab": {
          "base_uri": "https://localhost:8080/"
        },
        "outputId": "e746471c-cd27-4ca5-95ad-a8490bdade4a"
      },
      "execution_count": null,
      "outputs": [
        {
          "output_type": "stream",
          "name": "stderr",
          "text": [
            "100%|██████████| 225/225 [01:25<00:00,  2.64it/s]\n"
          ]
        }
      ]
    },
    {
      "cell_type": "code",
      "source": [
        "sf_grouped_episode_season['words_1grams'] = tc.text_analytics.count_ngrams(sf_grouped_episode_season['full_quotes'], n=1, method='word')\n",
        "sf_grouped_episode_season['words_2grams'] = tc.text_analytics.count_ngrams(sf_grouped_episode_season['full_quotes'], n=2, method='word')"
      ],
      "metadata": {
        "id": "PhVIH0C4_toY"
      },
      "execution_count": null,
      "outputs": []
    },
    {
      "cell_type": "code",
      "source": [
        "sf_grouped_episode_season['season'] = sf_grouped_episode_season['season'].astype(int)"
      ],
      "metadata": {
        "id": "GR2UW0jBBvJx"
      },
      "execution_count": null,
      "outputs": []
    },
    {
      "cell_type": "code",
      "source": [
        "train,test = sf_grouped_episode_season.random_split(0.8)"
      ],
      "metadata": {
        "id": "HopeYdA9BF9J"
      },
      "execution_count": null,
      "outputs": []
    },
    {
      "cell_type": "code",
      "source": [
        "cls = tc.classifier.create(train, features=['vector','words_1grams', 'words_2grams'], target=\"season\")"
      ],
      "metadata": {
        "id": "ibqaU-3XvPrg",
        "colab": {
          "base_uri": "https://localhost:8080/",
          "height": 1000
        },
        "outputId": "5b3b2ac1-48f4-43b9-c16b-af857cca8c53"
      },
      "execution_count": null,
      "outputs": [
        {
          "output_type": "stream",
          "name": "stdout",
          "text": [
            "PROGRESS: Creating a validation set from 5 percent of training data. This may take a while.\n",
            "          You can set ``validation_set=None`` to disable validation tracking.\n",
            "\n",
            "PROGRESS: The following methods are available for this type of problem.\n",
            "PROGRESS: BoostedTreesClassifier, RandomForestClassifier, DecisionTreeClassifier, LogisticClassifier\n",
            "PROGRESS: The returned model will be chosen according to validation accuracy.\n"
          ]
        },
        {
          "output_type": "display_data",
          "data": {
            "text/plain": [
              "Boosted trees classifier:"
            ],
            "text/html": [
              "<pre>Boosted trees classifier:</pre>"
            ]
          },
          "metadata": {}
        },
        {
          "output_type": "display_data",
          "data": {
            "text/plain": [
              "--------------------------------------------------------"
            ],
            "text/html": [
              "<pre>--------------------------------------------------------</pre>"
            ]
          },
          "metadata": {}
        },
        {
          "output_type": "display_data",
          "data": {
            "text/plain": [
              "Number of examples          : 171"
            ],
            "text/html": [
              "<pre>Number of examples          : 171</pre>"
            ]
          },
          "metadata": {}
        },
        {
          "output_type": "display_data",
          "data": {
            "text/plain": [
              "Number of classes           : 10"
            ],
            "text/html": [
              "<pre>Number of classes           : 10</pre>"
            ]
          },
          "metadata": {}
        },
        {
          "output_type": "display_data",
          "data": {
            "text/plain": [
              "Number of feature columns   : 3"
            ],
            "text/html": [
              "<pre>Number of feature columns   : 3</pre>"
            ]
          },
          "metadata": {}
        },
        {
          "output_type": "display_data",
          "data": {
            "text/plain": [
              "Number of unpacked features : 154162"
            ],
            "text/html": [
              "<pre>Number of unpacked features : 154162</pre>"
            ]
          },
          "metadata": {}
        },
        {
          "output_type": "display_data",
          "data": {
            "text/plain": [
              "+-----------+--------------+-------------------+---------------------+-------------------+---------------------+"
            ],
            "text/html": [
              "<pre>+-----------+--------------+-------------------+---------------------+-------------------+---------------------+</pre>"
            ]
          },
          "metadata": {}
        },
        {
          "output_type": "display_data",
          "data": {
            "text/plain": [
              "| Iteration | Elapsed Time | Training Accuracy | Validation Accuracy | Training Log Loss | Validation Log Loss |"
            ],
            "text/html": [
              "<pre>| Iteration | Elapsed Time | Training Accuracy | Validation Accuracy | Training Log Loss | Validation Log Loss |</pre>"
            ]
          },
          "metadata": {}
        },
        {
          "output_type": "display_data",
          "data": {
            "text/plain": [
              "+-----------+--------------+-------------------+---------------------+-------------------+---------------------+"
            ],
            "text/html": [
              "<pre>+-----------+--------------+-------------------+---------------------+-------------------+---------------------+</pre>"
            ]
          },
          "metadata": {}
        },
        {
          "output_type": "display_data",
          "data": {
            "text/plain": [
              "| 1         | 0.727937     | 1.000000          | 0.800000            | 1.434761          | 1.695758            |"
            ],
            "text/html": [
              "<pre>| 1         | 0.727937     | 1.000000          | 0.800000            | 1.434761          | 1.695758            |</pre>"
            ]
          },
          "metadata": {}
        },
        {
          "output_type": "display_data",
          "data": {
            "text/plain": [
              "| 2         | 1.464758     | 1.000000          | 0.900000            | 0.989808          | 1.459866            |"
            ],
            "text/html": [
              "<pre>| 2         | 1.464758     | 1.000000          | 0.900000            | 0.989808          | 1.459866            |</pre>"
            ]
          },
          "metadata": {}
        },
        {
          "output_type": "display_data",
          "data": {
            "text/plain": [
              "| 3         | 2.220784     | 1.000000          | 0.900000            | 0.719214          | 1.260091            |"
            ],
            "text/html": [
              "<pre>| 3         | 2.220784     | 1.000000          | 0.900000            | 0.719214          | 1.260091            |</pre>"
            ]
          },
          "metadata": {}
        },
        {
          "output_type": "display_data",
          "data": {
            "text/plain": [
              "| 4         | 3.004750     | 1.000000          | 0.900000            | 0.536313          | 1.119300            |"
            ],
            "text/html": [
              "<pre>| 4         | 3.004750     | 1.000000          | 0.900000            | 0.536313          | 1.119300            |</pre>"
            ]
          },
          "metadata": {}
        },
        {
          "output_type": "display_data",
          "data": {
            "text/plain": [
              "| 5         | 3.741947     | 1.000000          | 0.900000            | 0.406268          | 1.035028            |"
            ],
            "text/html": [
              "<pre>| 5         | 3.741947     | 1.000000          | 0.900000            | 0.406268          | 1.035028            |</pre>"
            ]
          },
          "metadata": {}
        },
        {
          "output_type": "display_data",
          "data": {
            "text/plain": [
              "| 10        | 7.619513     | 1.000000          | 0.800000            | 0.121828          | 0.866124            |"
            ],
            "text/html": [
              "<pre>| 10        | 7.619513     | 1.000000          | 0.800000            | 0.121828          | 0.866124            |</pre>"
            ]
          },
          "metadata": {}
        },
        {
          "output_type": "display_data",
          "data": {
            "text/plain": [
              "+-----------+--------------+-------------------+---------------------+-------------------+---------------------+"
            ],
            "text/html": [
              "<pre>+-----------+--------------+-------------------+---------------------+-------------------+---------------------+</pre>"
            ]
          },
          "metadata": {}
        },
        {
          "output_type": "display_data",
          "data": {
            "text/plain": [
              "Random forest classifier:"
            ],
            "text/html": [
              "<pre>Random forest classifier:</pre>"
            ]
          },
          "metadata": {}
        },
        {
          "output_type": "display_data",
          "data": {
            "text/plain": [
              "--------------------------------------------------------"
            ],
            "text/html": [
              "<pre>--------------------------------------------------------</pre>"
            ]
          },
          "metadata": {}
        },
        {
          "output_type": "display_data",
          "data": {
            "text/plain": [
              "Number of examples          : 171"
            ],
            "text/html": [
              "<pre>Number of examples          : 171</pre>"
            ]
          },
          "metadata": {}
        },
        {
          "output_type": "display_data",
          "data": {
            "text/plain": [
              "Number of classes           : 10"
            ],
            "text/html": [
              "<pre>Number of classes           : 10</pre>"
            ]
          },
          "metadata": {}
        },
        {
          "output_type": "display_data",
          "data": {
            "text/plain": [
              "Number of feature columns   : 3"
            ],
            "text/html": [
              "<pre>Number of feature columns   : 3</pre>"
            ]
          },
          "metadata": {}
        },
        {
          "output_type": "display_data",
          "data": {
            "text/plain": [
              "Number of unpacked features : 154162"
            ],
            "text/html": [
              "<pre>Number of unpacked features : 154162</pre>"
            ]
          },
          "metadata": {}
        },
        {
          "output_type": "display_data",
          "data": {
            "text/plain": [
              "+-----------+--------------+-------------------+---------------------+-------------------+---------------------+"
            ],
            "text/html": [
              "<pre>+-----------+--------------+-------------------+---------------------+-------------------+---------------------+</pre>"
            ]
          },
          "metadata": {}
        },
        {
          "output_type": "display_data",
          "data": {
            "text/plain": [
              "| Iteration | Elapsed Time | Training Accuracy | Validation Accuracy | Training Log Loss | Validation Log Loss |"
            ],
            "text/html": [
              "<pre>| Iteration | Elapsed Time | Training Accuracy | Validation Accuracy | Training Log Loss | Validation Log Loss |</pre>"
            ]
          },
          "metadata": {}
        },
        {
          "output_type": "display_data",
          "data": {
            "text/plain": [
              "+-----------+--------------+-------------------+---------------------+-------------------+---------------------+"
            ],
            "text/html": [
              "<pre>+-----------+--------------+-------------------+---------------------+-------------------+---------------------+</pre>"
            ]
          },
          "metadata": {}
        },
        {
          "output_type": "display_data",
          "data": {
            "text/plain": [
              "| 1         | 0.556791     | 0.853801          | 0.500000            | 0.689016          | 1.342821            |"
            ],
            "text/html": [
              "<pre>| 1         | 0.556791     | 0.853801          | 0.500000            | 0.689016          | 1.342821            |</pre>"
            ]
          },
          "metadata": {}
        },
        {
          "output_type": "display_data",
          "data": {
            "text/plain": [
              "| 2         | 1.095441     | 0.953216          | 0.800000            | 0.541840          | 0.770306            |"
            ],
            "text/html": [
              "<pre>| 2         | 1.095441     | 0.953216          | 0.800000            | 0.541840          | 0.770306            |</pre>"
            ]
          },
          "metadata": {}
        },
        {
          "output_type": "display_data",
          "data": {
            "text/plain": [
              "| 3         | 1.642436     | 0.970760          | 0.800000            | 0.536291          | 1.006982            |"
            ],
            "text/html": [
              "<pre>| 3         | 1.642436     | 0.970760          | 0.800000            | 0.536291          | 1.006982            |</pre>"
            ]
          },
          "metadata": {}
        },
        {
          "output_type": "display_data",
          "data": {
            "text/plain": [
              "| 4         | 2.219312     | 0.994152          | 0.700000            | 0.487833          | 0.989584            |"
            ],
            "text/html": [
              "<pre>| 4         | 2.219312     | 0.994152          | 0.700000            | 0.487833          | 0.989584            |</pre>"
            ]
          },
          "metadata": {}
        },
        {
          "output_type": "display_data",
          "data": {
            "text/plain": [
              "| 5         | 2.783207     | 1.000000          | 0.800000            | 0.465316          | 1.069012            |"
            ],
            "text/html": [
              "<pre>| 5         | 2.783207     | 1.000000          | 0.800000            | 0.465316          | 1.069012            |</pre>"
            ]
          },
          "metadata": {}
        },
        {
          "output_type": "display_data",
          "data": {
            "text/plain": [
              "| 10        | 5.466834     | 1.000000          | 0.800000            | 0.436002          | 1.097081            |"
            ],
            "text/html": [
              "<pre>| 10        | 5.466834     | 1.000000          | 0.800000            | 0.436002          | 1.097081            |</pre>"
            ]
          },
          "metadata": {}
        },
        {
          "output_type": "display_data",
          "data": {
            "text/plain": [
              "+-----------+--------------+-------------------+---------------------+-------------------+---------------------+"
            ],
            "text/html": [
              "<pre>+-----------+--------------+-------------------+---------------------+-------------------+---------------------+</pre>"
            ]
          },
          "metadata": {}
        },
        {
          "output_type": "display_data",
          "data": {
            "text/plain": [
              "Decision tree classifier:"
            ],
            "text/html": [
              "<pre>Decision tree classifier:</pre>"
            ]
          },
          "metadata": {}
        },
        {
          "output_type": "display_data",
          "data": {
            "text/plain": [
              "--------------------------------------------------------"
            ],
            "text/html": [
              "<pre>--------------------------------------------------------</pre>"
            ]
          },
          "metadata": {}
        },
        {
          "output_type": "display_data",
          "data": {
            "text/plain": [
              "Number of examples          : 171"
            ],
            "text/html": [
              "<pre>Number of examples          : 171</pre>"
            ]
          },
          "metadata": {}
        },
        {
          "output_type": "display_data",
          "data": {
            "text/plain": [
              "Number of classes           : 10"
            ],
            "text/html": [
              "<pre>Number of classes           : 10</pre>"
            ]
          },
          "metadata": {}
        },
        {
          "output_type": "display_data",
          "data": {
            "text/plain": [
              "Number of feature columns   : 3"
            ],
            "text/html": [
              "<pre>Number of feature columns   : 3</pre>"
            ]
          },
          "metadata": {}
        },
        {
          "output_type": "display_data",
          "data": {
            "text/plain": [
              "Number of unpacked features : 154162"
            ],
            "text/html": [
              "<pre>Number of unpacked features : 154162</pre>"
            ]
          },
          "metadata": {}
        },
        {
          "output_type": "display_data",
          "data": {
            "text/plain": [
              "+-----------+--------------+-------------------+---------------------+-------------------+---------------------+"
            ],
            "text/html": [
              "<pre>+-----------+--------------+-------------------+---------------------+-------------------+---------------------+</pre>"
            ]
          },
          "metadata": {}
        },
        {
          "output_type": "display_data",
          "data": {
            "text/plain": [
              "| Iteration | Elapsed Time | Training Accuracy | Validation Accuracy | Training Log Loss | Validation Log Loss |"
            ],
            "text/html": [
              "<pre>| Iteration | Elapsed Time | Training Accuracy | Validation Accuracy | Training Log Loss | Validation Log Loss |</pre>"
            ]
          },
          "metadata": {}
        },
        {
          "output_type": "display_data",
          "data": {
            "text/plain": [
              "+-----------+--------------+-------------------+---------------------+-------------------+---------------------+"
            ],
            "text/html": [
              "<pre>+-----------+--------------+-------------------+---------------------+-------------------+---------------------+</pre>"
            ]
          },
          "metadata": {}
        },
        {
          "output_type": "display_data",
          "data": {
            "text/plain": [
              "| 1         | 0.715540     | 1.000000          | 0.800000            | 0.306747          | 1.097287            |"
            ],
            "text/html": [
              "<pre>| 1         | 0.715540     | 1.000000          | 0.800000            | 0.306747          | 1.097287            |</pre>"
            ]
          },
          "metadata": {}
        },
        {
          "output_type": "display_data",
          "data": {
            "text/plain": [
              "+-----------+--------------+-------------------+---------------------+-------------------+---------------------+"
            ],
            "text/html": [
              "<pre>+-----------+--------------+-------------------+---------------------+-------------------+---------------------+</pre>"
            ]
          },
          "metadata": {}
        },
        {
          "output_type": "display_data",
          "data": {
            "text/plain": [
              "Logistic regression:"
            ],
            "text/html": [
              "<pre>Logistic regression:</pre>"
            ]
          },
          "metadata": {}
        },
        {
          "output_type": "display_data",
          "data": {
            "text/plain": [
              "--------------------------------------------------------"
            ],
            "text/html": [
              "<pre>--------------------------------------------------------</pre>"
            ]
          },
          "metadata": {}
        },
        {
          "output_type": "display_data",
          "data": {
            "text/plain": [
              "Number of examples          : 171"
            ],
            "text/html": [
              "<pre>Number of examples          : 171</pre>"
            ]
          },
          "metadata": {}
        },
        {
          "output_type": "display_data",
          "data": {
            "text/plain": [
              "Number of classes           : 10"
            ],
            "text/html": [
              "<pre>Number of classes           : 10</pre>"
            ]
          },
          "metadata": {}
        },
        {
          "output_type": "display_data",
          "data": {
            "text/plain": [
              "Number of feature columns   : 3"
            ],
            "text/html": [
              "<pre>Number of feature columns   : 3</pre>"
            ]
          },
          "metadata": {}
        },
        {
          "output_type": "display_data",
          "data": {
            "text/plain": [
              "Number of unpacked features : 154162"
            ],
            "text/html": [
              "<pre>Number of unpacked features : 154162</pre>"
            ]
          },
          "metadata": {}
        },
        {
          "output_type": "display_data",
          "data": {
            "text/plain": [
              "Number of coefficients      : 1387467"
            ],
            "text/html": [
              "<pre>Number of coefficients      : 1387467</pre>"
            ]
          },
          "metadata": {}
        },
        {
          "output_type": "display_data",
          "data": {
            "text/plain": [
              "Starting L-BFGS"
            ],
            "text/html": [
              "<pre>Starting L-BFGS</pre>"
            ]
          },
          "metadata": {}
        },
        {
          "output_type": "display_data",
          "data": {
            "text/plain": [
              "--------------------------------------------------------"
            ],
            "text/html": [
              "<pre>--------------------------------------------------------</pre>"
            ]
          },
          "metadata": {}
        },
        {
          "output_type": "display_data",
          "data": {
            "text/plain": [
              "+-----------+----------+-----------+--------------+-------------------+---------------------+"
            ],
            "text/html": [
              "<pre>+-----------+----------+-----------+--------------+-------------------+---------------------+</pre>"
            ]
          },
          "metadata": {}
        },
        {
          "output_type": "display_data",
          "data": {
            "text/plain": [
              "| Iteration | Passes   | Step size | Elapsed Time | Training Accuracy | Validation Accuracy |"
            ],
            "text/html": [
              "<pre>| Iteration | Passes   | Step size | Elapsed Time | Training Accuracy | Validation Accuracy |</pre>"
            ]
          },
          "metadata": {}
        },
        {
          "output_type": "display_data",
          "data": {
            "text/plain": [
              "+-----------+----------+-----------+--------------+-------------------+---------------------+"
            ],
            "text/html": [
              "<pre>+-----------+----------+-----------+--------------+-------------------+---------------------+</pre>"
            ]
          },
          "metadata": {}
        },
        {
          "output_type": "display_data",
          "data": {
            "text/plain": [
              "| 0         | 2        | 1.000000  | 0.357587     | 1.000000          | 0.400000            |"
            ],
            "text/html": [
              "<pre>| 0         | 2        | 1.000000  | 0.357587     | 1.000000          | 0.400000            |</pre>"
            ]
          },
          "metadata": {}
        },
        {
          "output_type": "display_data",
          "data": {
            "text/plain": [
              "| 1         | 3        | 1.000000  | 0.814638     | 1.000000          | 0.400000            |"
            ],
            "text/html": [
              "<pre>| 1         | 3        | 1.000000  | 0.814638     | 1.000000          | 0.400000            |</pre>"
            ]
          },
          "metadata": {}
        },
        {
          "output_type": "display_data",
          "data": {
            "text/plain": [
              "+-----------+----------+-----------+--------------+-------------------+---------------------+"
            ],
            "text/html": [
              "<pre>+-----------+----------+-----------+--------------+-------------------+---------------------+</pre>"
            ]
          },
          "metadata": {}
        },
        {
          "output_type": "stream",
          "name": "stdout",
          "text": [
            "PROGRESS: Model selection based on validation accuracy:\n",
            "PROGRESS: ---------------------------------------------\n",
            "PROGRESS: BoostedTreesClassifier          : 0.8\n",
            "PROGRESS: RandomForestClassifier          : 0.8\n",
            "PROGRESS: DecisionTreeClassifier          : 0.8\n",
            "PROGRESS: LogisticClassifier              : 0.4\n",
            "PROGRESS: ---------------------------------------------\n",
            "PROGRESS: Selecting BoostedTreesClassifier based on validation set performance.\n"
          ]
        }
      ]
    },
    {
      "cell_type": "code",
      "source": [
        "e = cls.evaluate(test)\n",
        "e"
      ],
      "metadata": {
        "id": "XkOKWXgb6hRc",
        "colab": {
          "base_uri": "https://localhost:8080/"
        },
        "outputId": "649c13dc-d48a-4135-9d58-8591c3e46cf9"
      },
      "execution_count": null,
      "outputs": [
        {
          "output_type": "execute_result",
          "data": {
            "text/plain": [
              "{'accuracy': 0.5909090909090909,\n",
              " 'auc': 0.9439832960685018,\n",
              " 'confusion_matrix': Columns:\n",
              " \ttarget_label\tint\n",
              " \tpredicted_label\tint\n",
              " \tcount\tint\n",
              " \n",
              " Rows: 25\n",
              " \n",
              " Data:\n",
              " +--------------+-----------------+-------+\n",
              " | target_label | predicted_label | count |\n",
              " +--------------+-----------------+-------+\n",
              " |      8       |        8        |   3   |\n",
              " |      8       |        7        |   1   |\n",
              " |      9       |        5        |   1   |\n",
              " |      6       |        4        |   2   |\n",
              " |      2       |        2        |   5   |\n",
              " |      10      |        9        |   1   |\n",
              " |      4       |        4        |   2   |\n",
              " |      9       |        9        |   2   |\n",
              " |      6       |        3        |   1   |\n",
              " |      10      |        10       |   2   |\n",
              " +--------------+-----------------+-------+\n",
              " [25 rows x 3 columns]\n",
              " Note: Only the head of the SFrame is printed.\n",
              " You can use print_rows(num_rows=m, num_columns=n) to print more rows and columns.,\n",
              " 'f1_score': 0.606991341991342,\n",
              " 'log_loss': 1.201663031041676,\n",
              " 'precision': 0.6166666666666667,\n",
              " 'recall': 0.6711111111111112,\n",
              " 'roc_curve': Columns:\n",
              " \tthreshold\tfloat\n",
              " \tfpr\tfloat\n",
              " \ttpr\tfloat\n",
              " \tp\tint\n",
              " \tn\tint\n",
              " \tclass\tint\n",
              " \n",
              " Rows: 10010\n",
              " \n",
              " Data:\n",
              " +-----------+-------------------+-----+---+----+-------+\n",
              " | threshold |        fpr        | tpr | p | n  | class |\n",
              " +-----------+-------------------+-----+---+----+-------+\n",
              " |    0.0    |        1.0        | 1.0 | 3 | 41 |   0   |\n",
              " |   0.001   |        1.0        | 1.0 | 3 | 41 |   0   |\n",
              " |   0.002   |        1.0        | 1.0 | 3 | 41 |   0   |\n",
              " |   0.003   |        1.0        | 1.0 | 3 | 41 |   0   |\n",
              " |   0.004   |        1.0        | 1.0 | 3 | 41 |   0   |\n",
              " |   0.005   |        1.0        | 1.0 | 3 | 41 |   0   |\n",
              " |   0.006   |        1.0        | 1.0 | 3 | 41 |   0   |\n",
              " |   0.007   |        1.0        | 1.0 | 3 | 41 |   0   |\n",
              " |   0.008   |        1.0        | 1.0 | 3 | 41 |   0   |\n",
              " |   0.009   | 0.975609756097561 | 1.0 | 3 | 41 |   0   |\n",
              " +-----------+-------------------+-----+---+----+-------+\n",
              " [10010 rows x 6 columns]\n",
              " Note: Only the head of the SFrame is printed.\n",
              " You can use print_rows(num_rows=m, num_columns=n) to print more rows and columns.}"
            ]
          },
          "metadata": {},
          "execution_count": 32
        }
      ]
    }
  ]
}